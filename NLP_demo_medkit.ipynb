{
 "cells": [
  {
   "cell_type": "markdown",
   "id": "8ab15e4b-c25c-4391-bacf-d692f13f4b4e",
   "metadata": {},
   "source": [
    "# Natural Language Processing with python and medkit"
   ]
  },
  {
   "cell_type": "markdown",
   "id": "71c08a6b-7d5f-49a2-a4cb-e75738d47bbc",
   "metadata": {},
   "source": [
    "medkit (github: https://github.com/TeamHeka/medkit, documentation: https://medkit.readthedocs.io/en/stable/) is library dedicated to the treatment of clinical data.\n",
    "\n",
    "For the moment, mekdit is mainly dedicated to two types of data: text and audio data. For texts, resources provided are mostly developed in French, but the library could be used in other languages."
   ]
  },
  {
   "cell_type": "markdown",
   "id": "0e1580ba-0b24-4fc9-94ad-a3b50ae999ab",
   "metadata": {},
   "source": [
    "## Installing medkit"
   ]
  },
  {
   "cell_type": "markdown",
   "id": "4869a1f0-d166-4830-b762-a2f1d87b64cc",
   "metadata": {},
   "source": [
    "The recommended way is to use Conda environment, in this Lab, we will rely on a *pip* install.\n",
    "\n",
    "The library is already installed on this system, the command line is given only as a reference."
   ]
  },
  {
   "cell_type": "code",
   "execution_count": null,
   "id": "30359e39-9717-41e2-a557-d8fa1c198b09",
   "metadata": {},
   "outputs": [],
   "source": [
    "!pip3 install --upgrade medkit-lib[optional]"
   ]
  },
  {
   "cell_type": "markdown",
   "id": "3450a755-ac69-4d07-9524-2644ac07fcc8",
   "metadata": {},
   "source": [
    "## Downloading a corpus of documents"
   ]
  },
  {
   "cell_type": "markdown",
   "id": "5adca499-8e04-40ad-b5ca-e8ce85242ae5",
   "metadata": {},
   "source": [
    "Here the documents have already been downloaded. No need to perform this step"
   ]
  },
  {
   "cell_type": "code",
   "execution_count": null,
   "id": "d963b8cc-9fdd-4f30-8104-b390b208ec56",
   "metadata": {},
   "outputs": [],
   "source": [
    "!wget https://github.com/neurazlab/mtsamplesFR/raw/master/data/mtsamples.csv -O 01_data/mtsamples.csv"
   ]
  },
  {
   "cell_type": "markdown",
   "id": "7097fa61-e7a4-4e76-b295-fdc6f82e31e7",
   "metadata": {},
   "source": [
    "## Reading the documents\n",
    "And printing the first document"
   ]
  },
  {
   "cell_type": "code",
   "execution_count": 1,
   "id": "c0e1e263-4ca1-4cf7-8db3-d21d4c3e2151",
   "metadata": {},
   "outputs": [],
   "source": [
    "import pandas as pd\n",
    "\n",
    "docs = pd.read_csv('/home/ressources/PBL/mtsamples.csv')"
   ]
  },
  {
   "cell_type": "markdown",
   "id": "8d74a307-4ca5-4738-9417-594370a029c1",
   "metadata": {},
   "source": [
    "The *iloc* function, allows to select the first row of the data frame"
   ]
  },
  {
   "cell_type": "code",
   "execution_count": 2,
   "id": "54d67f4c-47ac-4232-aabc-44dcf93abe71",
   "metadata": {},
   "outputs": [
    {
     "name": "stdout",
     "output_type": "stream",
     "text": [
      "SUBJECTIVE:,  This 23-year-old white female presents with complaint of allergies.  She used to have allergies when she lived in Seattle but she thinks they are worse here.  In the past, she has tried Claritin, and Zyrtec.  Both worked for short time but then seemed to lose effectiveness.  She has used Allegra also.  She used that last summer and she began using it again two weeks ago.  It does not appear to be working very well.  She has used over-the-counter sprays but no prescription nasal sprays.  She does have asthma but doest not require daily medication for this and does not think it is flaring up.,MEDICATIONS: , Her only medication currently is Ortho Tri-Cyclen and the Allegra.,ALLERGIES: , She has no known medicine allergies.,OBJECTIVE:,Vitals:  Weight was 130 pounds and blood pressure 124/78.,HEENT:  Her throat was mildly erythematous without exudate.  Nasal mucosa was erythematous and swollen.  Only clear drainage was seen.  TMs were clear.,Neck:  Supple without adenopathy.,Lungs:  Clear.,ASSESSMENT:,  Allergic rhinitis.,PLAN:,1.  She will try Zyrtec instead of Allegra again.  Another option will be to use loratadine.  She does not think she has prescription coverage so that might be cheaper.,2.  Samples of Nasonex two sprays in each nostril given for three weeks.  A prescription was written as well.\n"
     ]
    }
   ],
   "source": [
    "print(docs.iloc[0]['transcription'])"
   ]
  },
  {
   "cell_type": "markdown",
   "id": "a2096ef1-a414-479c-b81e-1fb7cf52ed0e",
   "metadata": {},
   "source": [
    "Visualisation de l'objet document :"
   ]
  },
  {
   "cell_type": "code",
   "execution_count": 3,
   "id": "1e074044-0413-47d2-9b01-83580ac35dcb",
   "metadata": {},
   "outputs": [
    {
     "data": {
      "text/plain": [
       "Unnamed: 0                                                           0\n",
       "description           A 23-year-old white female presents with comp...\n",
       "medical_specialty                                 Allergy / Immunology\n",
       "sample_name                                         Allergic Rhinitis \n",
       "transcription        SUBJECTIVE:,  This 23-year-old white female pr...\n",
       "keywords             allergy / immunology, allergic rhinitis, aller...\n",
       "Name: 0, dtype: object"
      ]
     },
     "execution_count": 3,
     "metadata": {},
     "output_type": "execute_result"
    }
   ],
   "source": [
    "docs.iloc[0]"
   ]
  },
  {
   "cell_type": "markdown",
   "id": "c2627963-067a-4e8f-9ab7-6ace50747741",
   "metadata": {},
   "source": [
    "## Creating your first medkit document"
   ]
  },
  {
   "cell_type": "code",
   "execution_count": 10,
   "id": "574fd34e-a8e6-4dd0-8db9-02a0e9a6711f",
   "metadata": {},
   "outputs": [
    {
     "name": "stdout",
     "output_type": "stream",
     "text": [
      "SUBJECTIVE:,  This 23-year-old white female presents with complaint of allergies.  She used to have allergies when she lived in Seattle but she thinks they are worse here.  In the past, she has tried Claritin, and Zyrtec.  Both worked for short time but then seemed to lose effectiveness.  She has used Allegra also.  She used that last summer and she began using it again two weeks ago.  It does not appear to be working very well.  She has used over-the-counter sprays but no prescription nasal sprays.  She does have asthma but doest not require daily medication for this and does not think it is flaring up.,MEDICATIONS: , Her only medication currently is Ortho Tri-Cyclen and the Allegra.,ALLERGIES: , She has no known medicine allergies.,OBJECTIVE:,Vitals:  Weight was 130 pounds and blood pressure 124/78.,HEENT:  Her throat was mildly erythematous without exudate.  Nasal mucosa was erythematous and swollen.  Only clear drainage was seen.  TMs were clear.,Neck:  Supple without adenopathy.,Lungs:  Clear.,ASSESSMENT:,  Allergic rhinitis.,PLAN:,1.  She will try Zyrtec instead of Allegra again.  Another option will be to use loratadine.  She does not think she has prescription coverage so that might be cheaper.,2.  Samples of Nasonex two sprays in each nostril given for three weeks.  A prescription was written as well.\n"
     ]
    }
   ],
   "source": [
    "from medkit.core.text import TextDocument\n",
    "\n",
    "doc = TextDocument(text=docs.iloc[0]['transcription'])\n",
    "print(doc.text)"
   ]
  },
  {
   "cell_type": "markdown",
   "id": "46e721cd-83e0-4b9c-aeb5-eef798b305d8",
   "metadata": {},
   "source": [
    "### Using regular expressions to extract vitals\n",
    "Let's first extract vitals (weight, blood pressure, size....) using regular expression."
   ]
  },
  {
   "cell_type": "code",
   "execution_count": 11,
   "id": "54f50ed1-c4f2-4660-aa23-48a0dfc6a9e9",
   "metadata": {},
   "outputs": [],
   "source": [
    "from medkit.text.ner import RegexpMatcher, RegexpMatcherRule\n",
    "\n",
    "regexp_rules = [\n",
    "    RegexpMatcherRule(regexp=r\"[0-9]+\", label=\"number\"), # change this rule to detect blood pressure (the form is usually 120/80\n",
    "    RegexpMatcherRule(regexp=r\"[0-9]{2,3}/[0-9]{2,3}\", label=\"bp\"),\n",
    "    #    \n",
    "    # Add a rule capturing BMI values\n",
    "    #\n",
    "]\n",
    "regexp_matcher = RegexpMatcher(rules=regexp_rules)"
   ]
  },
  {
   "cell_type": "markdown",
   "id": "6ad5455d-826d-4cfc-8016-88b7f79b35f7",
   "metadata": {},
   "source": [
    "The code above creates a matcher. The matcher itself does nothing. To use the matcher, it has to run on the document"
   ]
  },
  {
   "cell_type": "code",
   "execution_count": 12,
   "id": "2c22327c-bbab-44b5-be3c-d5615e3b142a",
   "metadata": {},
   "outputs": [],
   "source": [
    "entities = regexp_matcher.run([doc.raw_segment])"
   ]
  },
  {
   "cell_type": "markdown",
   "id": "07b5f7f2-ef19-43a3-a2eb-bed5de869142",
   "metadata": {},
   "source": [
    "Let's visualize, the entities detected by the regular expressions:"
   ]
  },
  {
   "cell_type": "code",
   "execution_count": 13,
   "id": "342975f2-8334-4917-b52f-08163008bbd0",
   "metadata": {},
   "outputs": [
    {
     "name": "stdout",
     "output_type": "stream",
     "text": [
      "text='23', spans=[Span(start=19, end=21)], label=number\n",
      "text='130', spans=[Span(start=775, end=778)], label=number\n",
      "text='124', spans=[Span(start=805, end=808)], label=number\n",
      "text='78', spans=[Span(start=809, end=811)], label=number\n",
      "text='1', spans=[Span(start=1053, end=1054)], label=number\n",
      "text='2', spans=[Span(start=1222, end=1223)], label=number\n",
      "text='124/78', spans=[Span(start=805, end=811)], label=bp\n"
     ]
    }
   ],
   "source": [
    "for entity in entities:\n",
    "    print(f\"text={entity.text!r}, spans={entity.spans}, label={entity.label}\")"
   ]
  },
  {
   "cell_type": "markdown",
   "id": "45d61de3-c469-4991-88c8-53632ac4b106",
   "metadata": {},
   "source": [
    "Technical action to create document annotations using the detected entities (mandatory for visualization, but not important to understand)."
   ]
  },
  {
   "cell_type": "code",
   "execution_count": 14,
   "id": "9a933f60-20d5-4ecc-b7aa-1f9aa162b996",
   "metadata": {},
   "outputs": [],
   "source": [
    "for entity in entities:\n",
    "    doc.anns.add(entity)"
   ]
  },
  {
   "cell_type": "code",
   "execution_count": 20,
   "id": "1b5277d1-0f40-41ce-b8d4-490366cac1ca",
   "metadata": {},
   "outputs": [
    {
     "data": {
      "text/html": [
       "<span class=\"tex2jax_ignore\"><div class=\"entities\" style=\"line-height: 2.5; direction: ltr\">SUBJECTIVE:,  This \n",
       "<mark class=\"entity\" style=\"background: #ff6961; padding: 0.45em 0.6em; margin: 0 0.25em; line-height: 1; border-radius: 0.35em;\">\n",
       "    23\n",
       "    <span style=\"font-size: 0.8em; font-weight: bold; line-height: 1; border-radius: 0.35em; vertical-align: middle; margin-left: 0.5rem\">number</span>\n",
       "</mark>\n",
       "-year-old white female presents with complaint of allergies.  She used to have allergies when she lived in Seattle but she thinks they are worse here.  In the past, she has tried Claritin, and Zyrtec.  Both worked for short time but then seemed to lose effectiveness.  She has used Allegra also.  She used that last summer and she began using it again two weeks ago.  It does not appear to be working very well.  She has used over-the-counter sprays but no prescription nasal sprays.  She does have asthma but doest not require daily medication for this and does not think it is flaring up.,MEDICATIONS: , Her only medication currently is Ortho Tri-Cyclen and the Allegra.,ALLERGIES: , She has no known medicine allergies.,OBJECTIVE:,Vitals:  Weight was \n",
       "<mark class=\"entity\" style=\"background: #ff6961; padding: 0.45em 0.6em; margin: 0 0.25em; line-height: 1; border-radius: 0.35em;\">\n",
       "    130\n",
       "    <span style=\"font-size: 0.8em; font-weight: bold; line-height: 1; border-radius: 0.35em; vertical-align: middle; margin-left: 0.5rem\">number</span>\n",
       "</mark>\n",
       " pounds and blood pressure \n",
       "<mark class=\"entity\" style=\"background: #ff6961; padding: 0.45em 0.6em; margin: 0 0.25em; line-height: 1; border-radius: 0.35em;\">\n",
       "    124\n",
       "    <span style=\"font-size: 0.8em; font-weight: bold; line-height: 1; border-radius: 0.35em; vertical-align: middle; margin-left: 0.5rem\">number</span>\n",
       "</mark>\n",
       "\n",
       "<mark class=\"entity\" style=\"background: #93ff33; padding: 0.45em 0.6em; margin: 0 0.25em; line-height: 1; border-radius: 0.35em;\">\n",
       "    124/78\n",
       "    <span style=\"font-size: 0.8em; font-weight: bold; line-height: 1; border-radius: 0.35em; vertical-align: middle; margin-left: 0.5rem\">bp</span>\n",
       "</mark>\n",
       "\n",
       "<mark class=\"entity\" style=\"background: #ff6961; padding: 0.45em 0.6em; margin: 0 0.25em; line-height: 1; border-radius: 0.35em;\">\n",
       "    78\n",
       "    <span style=\"font-size: 0.8em; font-weight: bold; line-height: 1; border-radius: 0.35em; vertical-align: middle; margin-left: 0.5rem\">number</span>\n",
       "</mark>\n",
       ".,HEENT:  Her throat was mildly erythematous without exudate.  Nasal mucosa was erythematous and swollen.  Only clear drainage was seen.  TMs were clear.,Neck:  Supple without adenopathy.,Lungs:  Clear.,ASSESSMENT:,  Allergic rhinitis.,PLAN:,\n",
       "<mark class=\"entity\" style=\"background: #ff6961; padding: 0.45em 0.6em; margin: 0 0.25em; line-height: 1; border-radius: 0.35em;\">\n",
       "    1\n",
       "    <span style=\"font-size: 0.8em; font-weight: bold; line-height: 1; border-radius: 0.35em; vertical-align: middle; margin-left: 0.5rem\">number</span>\n",
       "</mark>\n",
       ".  She will try Zyrtec instead of Allegra again.  Another option will be to use loratadine.  She does not think she has prescription coverage so that might be cheaper.,\n",
       "<mark class=\"entity\" style=\"background: #ff6961; padding: 0.45em 0.6em; margin: 0 0.25em; line-height: 1; border-radius: 0.35em;\">\n",
       "    2\n",
       "    <span style=\"font-size: 0.8em; font-weight: bold; line-height: 1; border-radius: 0.35em; vertical-align: middle; margin-left: 0.5rem\">number</span>\n",
       "</mark>\n",
       ".  Samples of Nasonex two sprays in each nostril given for three weeks.  A prescription was written as well.</div></span>"
      ],
      "text/plain": [
       "<IPython.core.display.HTML object>"
      ]
     },
     "metadata": {},
     "output_type": "display_data"
    }
   ],
   "source": [
    "from spacy import displacy\n",
    "from medkit.text.spacy.displacy_utils import medkit_doc_to_displacy\n",
    "\n",
    "colors = {\"number\": \"#ff6961\", \"bp\":\"#93ff33\"}\n",
    "options = {\"ents\": ['number', 'bp'], \"colors\": colors}\n",
    "\n",
    "displacy_data = medkit_doc_to_displacy(doc)\n",
    "displacy.render(displacy_data, manual=True, style=\"ent\", options=options)"
   ]
  },
  {
   "cell_type": "markdown",
   "id": "9664aac3-edac-4f99-b296-02da21182a48",
   "metadata": {},
   "source": [
    "#### Exercice :\n",
    "\n",
    "Modify the code above to capture IMC, blood pressure\n",
    "and the age of the patients"
   ]
  },
  {
   "cell_type": "markdown",
   "id": "4b5b69e5-76bb-4623-9ed0-48cd7cfedec1",
   "metadata": {},
   "source": [
    "# Extracting drugs using a dictionary"
   ]
  },
  {
   "cell_type": "markdown",
   "id": "a944a371-74b9-4052-ac69-65448d7137a3",
   "metadata": {},
   "source": [
    "We will rely on a list of drugs provided by the US FDA to build a dictionnary (https://www.fda.gov/drugs/drug-approvals-and-databases/drugsfda-data-files)"
   ]
  },
  {
   "cell_type": "markdown",
   "id": "ef6ede06-048e-4eec-ad8e-3e85a6a4ae46",
   "metadata": {},
   "source": [
    "### Step 1 - constructing a dictionary of drug names\n",
    "Read the Products file, and identify the columns of interest"
   ]
  },
  {
   "cell_type": "code",
   "execution_count": 21,
   "id": "51fb99fb-c15e-440b-9f11-7378ac2a3d1c",
   "metadata": {},
   "outputs": [
    {
     "data": {
      "text/plain": [
       "ApplNo                                             4\n",
       "ProductNo                                          4\n",
       "Form                       SOLUTION/DROPS;OPHTHALMIC\n",
       "Strength                                          1%\n",
       "ReferenceDrug                                      0\n",
       "DrugName                                   PAREDRINE\n",
       "ActiveIngredient     HYDROXYAMPHETAMINE HYDROBROMIDE\n",
       "ReferenceStandard                                0.0\n",
       "Name: 0, dtype: object"
      ]
     },
     "execution_count": 21,
     "metadata": {},
     "output_type": "execute_result"
    }
   ],
   "source": [
    "import pandas as pd\n",
    "\n",
    "drugs = pd.read_csv(\"/home/ressources/PBL/Products.txt\", sep=\"\\t\",on_bad_lines='skip')\n",
    "drugs.iloc[0]"
   ]
  },
  {
   "cell_type": "code",
   "execution_count": 22,
   "id": "a0806759-b7dc-497b-9762-e90152ea7896",
   "metadata": {},
   "outputs": [
    {
     "data": {
      "text/plain": [
       "46146"
      ]
     },
     "execution_count": 22,
     "metadata": {},
     "output_type": "execute_result"
    }
   ],
   "source": [
    "# Print the size of the dataset, here 46k brand names\n",
    "len(drugs)"
   ]
  },
  {
   "cell_type": "markdown",
   "id": "c1633503-7cbb-4ff5-bec1-b546f63733c2",
   "metadata": {},
   "source": [
    "### Step 2 - Build the dictionary using the IAMsystem matcher"
   ]
  },
  {
   "cell_type": "code",
   "execution_count": 23,
   "id": "1d9db3b2-6fdd-43e2-806e-b861f1e47d93",
   "metadata": {},
   "outputs": [],
   "source": [
    "from iamsystem import Matcher\n",
    "from iamsystem import ESpellWiseAlgo\n",
    "\n",
    "from medkit.text.ner import RegexpMatcher, RegexpMatcherRule\n",
    "from medkit.text.ner.iamsystem_matcher import IAMSystemMatcher\n",
    "from medkit.text.ner.iamsystem_matcher import MedkitKeyword\n",
    "\n",
    "keywords_list=[]\n",
    "# Creation of the list of terms to be searched\n",
    "for i in range(0, len(drugs)):\n",
    "    keywords_list.append(MedkitKeyword(label=drugs.at[i, 'DrugName'], kb_id=drugs.at[i, 'ApplNo'], kb_name=\"FDA\", ent_label='drug'))\n",
    "\n",
    "    \n",
    "    \n",
    "matcher = Matcher.build(\n",
    "    keywords=keywords_list,\n",
    "    spellwise=[dict(measure=ESpellWiseAlgo.LEVENSHTEIN,max_distance=1,min_nb_char=10,)],\n",
    "    stopwords=[\"and\"],\n",
    "    w=2,\n",
    ")"
   ]
  },
  {
   "cell_type": "code",
   "execution_count": 24,
   "id": "9bc7c4bb-cf16-4830-ac9e-9ca7ed606c1b",
   "metadata": {},
   "outputs": [],
   "source": [
    "iam_matcher = IAMSystemMatcher(matcher = matcher, attrs_to_copy = [\"is_negated\", \"family\"])"
   ]
  },
  {
   "cell_type": "code",
   "execution_count": 25,
   "id": "e23f0bb0-0e47-4fed-bb5c-9e75bfb29a9a",
   "metadata": {},
   "outputs": [
    {
     "name": "stdout",
     "output_type": "stream",
     "text": [
      "text='Claritin', spans=[Span(start=200, end=208)], label=drug\n",
      "text='Zyrtec', spans=[Span(start=214, end=220)], label=drug\n",
      "text='Allegra', spans=[Span(start=303, end=310)], label=drug\n",
      "text='Ortho Tri Cyclen', spans=[Span(start=660, end=665), ModifiedSpan(length=1, replaced_spans=[]), Span(start=666, end=669), ModifiedSpan(length=1, replaced_spans=[]), Span(start=670, end=676)], label=drug\n",
      "text='Allegra', spans=[Span(start=685, end=692)], label=drug\n",
      "text='Zyrtec', spans=[Span(start=1070, end=1076)], label=drug\n",
      "text='Allegra', spans=[Span(start=1088, end=1095)], label=drug\n",
      "text='loratadine', spans=[Span(start=1134, end=1144)], label=drug\n",
      "text='Nasonex', spans=[Span(start=1237, end=1244)], label=drug\n"
     ]
    }
   ],
   "source": [
    "entities = iam_matcher.run([doc.raw_segment])\n",
    "\n",
    "for entity in entities:\n",
    "    print(f\"text={entity.text!r}, spans={entity.spans}, label={entity.label}\")"
   ]
  },
  {
   "cell_type": "code",
   "execution_count": 26,
   "id": "6d3e38b6-9d58-4bbc-a5bd-3d42d4379402",
   "metadata": {},
   "outputs": [],
   "source": [
    "for entity in entities:\n",
    "    doc.anns.add(entity)"
   ]
  },
  {
   "cell_type": "code",
   "execution_count": 27,
   "id": "7155c5ca-20ed-4b27-af49-79f8068f1b1c",
   "metadata": {},
   "outputs": [
    {
     "data": {
      "text/html": [
       "<span class=\"tex2jax_ignore\"><div class=\"entities\" style=\"line-height: 2.5; direction: ltr\">SUBJECTIVE:,  This \n",
       "<mark class=\"entity\" style=\"background: #ff6961; padding: 0.45em 0.6em; margin: 0 0.25em; line-height: 1; border-radius: 0.35em;\">\n",
       "    23\n",
       "    <span style=\"font-size: 0.8em; font-weight: bold; line-height: 1; border-radius: 0.35em; vertical-align: middle; margin-left: 0.5rem\">number</span>\n",
       "</mark>\n",
       "-year-old white female presents with complaint of allergies.  She used to have allergies when she lived in Seattle but she thinks they are worse here.  In the past, she has tried \n",
       "<mark class=\"entity\" style=\"background: #ff9900; padding: 0.45em 0.6em; margin: 0 0.25em; line-height: 1; border-radius: 0.35em;\">\n",
       "    Claritin\n",
       "    <span style=\"font-size: 0.8em; font-weight: bold; line-height: 1; border-radius: 0.35em; vertical-align: middle; margin-left: 0.5rem\">drug</span>\n",
       "</mark>\n",
       ", and \n",
       "<mark class=\"entity\" style=\"background: #ff9900; padding: 0.45em 0.6em; margin: 0 0.25em; line-height: 1; border-radius: 0.35em;\">\n",
       "    Zyrtec\n",
       "    <span style=\"font-size: 0.8em; font-weight: bold; line-height: 1; border-radius: 0.35em; vertical-align: middle; margin-left: 0.5rem\">drug</span>\n",
       "</mark>\n",
       ".  Both worked for short time but then seemed to lose effectiveness.  She has used \n",
       "<mark class=\"entity\" style=\"background: #ff9900; padding: 0.45em 0.6em; margin: 0 0.25em; line-height: 1; border-radius: 0.35em;\">\n",
       "    Allegra\n",
       "    <span style=\"font-size: 0.8em; font-weight: bold; line-height: 1; border-radius: 0.35em; vertical-align: middle; margin-left: 0.5rem\">drug</span>\n",
       "</mark>\n",
       " also.  She used that last summer and she began using it again two weeks ago.  It does not appear to be working very well.  She has used over-the-counter sprays but no prescription nasal sprays.  She does have asthma but doest not require daily medication for this and does not think it is flaring up.,MEDICATIONS: , Her only medication currently is \n",
       "<mark class=\"entity\" style=\"background: #ff9900; padding: 0.45em 0.6em; margin: 0 0.25em; line-height: 1; border-radius: 0.35em;\">\n",
       "    Ortho Tri-Cyclen\n",
       "    <span style=\"font-size: 0.8em; font-weight: bold; line-height: 1; border-radius: 0.35em; vertical-align: middle; margin-left: 0.5rem\">drug</span>\n",
       "</mark>\n",
       " and the \n",
       "<mark class=\"entity\" style=\"background: #ff9900; padding: 0.45em 0.6em; margin: 0 0.25em; line-height: 1; border-radius: 0.35em;\">\n",
       "    Allegra\n",
       "    <span style=\"font-size: 0.8em; font-weight: bold; line-height: 1; border-radius: 0.35em; vertical-align: middle; margin-left: 0.5rem\">drug</span>\n",
       "</mark>\n",
       ".,ALLERGIES: , She has no known medicine allergies.,OBJECTIVE:,Vitals:  Weight was \n",
       "<mark class=\"entity\" style=\"background: #ff6961; padding: 0.45em 0.6em; margin: 0 0.25em; line-height: 1; border-radius: 0.35em;\">\n",
       "    130\n",
       "    <span style=\"font-size: 0.8em; font-weight: bold; line-height: 1; border-radius: 0.35em; vertical-align: middle; margin-left: 0.5rem\">number</span>\n",
       "</mark>\n",
       " pounds and blood pressure \n",
       "<mark class=\"entity\" style=\"background: #ff6961; padding: 0.45em 0.6em; margin: 0 0.25em; line-height: 1; border-radius: 0.35em;\">\n",
       "    124\n",
       "    <span style=\"font-size: 0.8em; font-weight: bold; line-height: 1; border-radius: 0.35em; vertical-align: middle; margin-left: 0.5rem\">number</span>\n",
       "</mark>\n",
       "124/78\n",
       "<mark class=\"entity\" style=\"background: #ff6961; padding: 0.45em 0.6em; margin: 0 0.25em; line-height: 1; border-radius: 0.35em;\">\n",
       "    78\n",
       "    <span style=\"font-size: 0.8em; font-weight: bold; line-height: 1; border-radius: 0.35em; vertical-align: middle; margin-left: 0.5rem\">number</span>\n",
       "</mark>\n",
       ".,HEENT:  Her throat was mildly erythematous without exudate.  Nasal mucosa was erythematous and swollen.  Only clear drainage was seen.  TMs were clear.,Neck:  Supple without adenopathy.,Lungs:  Clear.,ASSESSMENT:,  Allergic rhinitis.,PLAN:,\n",
       "<mark class=\"entity\" style=\"background: #ff6961; padding: 0.45em 0.6em; margin: 0 0.25em; line-height: 1; border-radius: 0.35em;\">\n",
       "    1\n",
       "    <span style=\"font-size: 0.8em; font-weight: bold; line-height: 1; border-radius: 0.35em; vertical-align: middle; margin-left: 0.5rem\">number</span>\n",
       "</mark>\n",
       ".  She will try \n",
       "<mark class=\"entity\" style=\"background: #ff9900; padding: 0.45em 0.6em; margin: 0 0.25em; line-height: 1; border-radius: 0.35em;\">\n",
       "    Zyrtec\n",
       "    <span style=\"font-size: 0.8em; font-weight: bold; line-height: 1; border-radius: 0.35em; vertical-align: middle; margin-left: 0.5rem\">drug</span>\n",
       "</mark>\n",
       " instead of \n",
       "<mark class=\"entity\" style=\"background: #ff9900; padding: 0.45em 0.6em; margin: 0 0.25em; line-height: 1; border-radius: 0.35em;\">\n",
       "    Allegra\n",
       "    <span style=\"font-size: 0.8em; font-weight: bold; line-height: 1; border-radius: 0.35em; vertical-align: middle; margin-left: 0.5rem\">drug</span>\n",
       "</mark>\n",
       " again.  Another option will be to use \n",
       "<mark class=\"entity\" style=\"background: #ff9900; padding: 0.45em 0.6em; margin: 0 0.25em; line-height: 1; border-radius: 0.35em;\">\n",
       "    loratadine\n",
       "    <span style=\"font-size: 0.8em; font-weight: bold; line-height: 1; border-radius: 0.35em; vertical-align: middle; margin-left: 0.5rem\">drug</span>\n",
       "</mark>\n",
       ".  She does not think she has prescription coverage so that might be cheaper.,\n",
       "<mark class=\"entity\" style=\"background: #ff6961; padding: 0.45em 0.6em; margin: 0 0.25em; line-height: 1; border-radius: 0.35em;\">\n",
       "    2\n",
       "    <span style=\"font-size: 0.8em; font-weight: bold; line-height: 1; border-radius: 0.35em; vertical-align: middle; margin-left: 0.5rem\">number</span>\n",
       "</mark>\n",
       ".  Samples of \n",
       "<mark class=\"entity\" style=\"background: #ff9900; padding: 0.45em 0.6em; margin: 0 0.25em; line-height: 1; border-radius: 0.35em;\">\n",
       "    Nasonex\n",
       "    <span style=\"font-size: 0.8em; font-weight: bold; line-height: 1; border-radius: 0.35em; vertical-align: middle; margin-left: 0.5rem\">drug</span>\n",
       "</mark>\n",
       " two sprays in each nostril given for three weeks.  A prescription was written as well.</div></span>"
      ],
      "text/plain": [
       "<IPython.core.display.HTML object>"
      ]
     },
     "metadata": {},
     "output_type": "display_data"
    }
   ],
   "source": [
    "from spacy import displacy\n",
    "from medkit.text.spacy.displacy_utils import medkit_doc_to_displacy\n",
    "\n",
    "colors = {'weight': \"#85C1E9\", \"number\": \"#ff6961\", \"drug\":\"#ff9900\"}\n",
    "options = {\"ents\": ['weight', 'number','drug'], \"colors\": colors}\n",
    "\n",
    "displacy_data = medkit_doc_to_displacy(doc)\n",
    "displacy.render(displacy_data, manual=True, style=\"ent\", options=options)"
   ]
  },
  {
   "cell_type": "markdown",
   "id": "ff2936a1-fb2c-467d-a174-101817a6d816",
   "metadata": {},
   "source": [
    "#### Exercice:\n",
    "\n",
    "Complete the code above to capture not only brand names but also ingredients (i.e. molecule names)"
   ]
  },
  {
   "cell_type": "markdown",
   "id": "31fb2d14-489c-4888-b82c-62496a4fff41",
   "metadata": {},
   "source": [
    "## Extracting phenotypes using dictionaries"
   ]
  },
  {
   "cell_type": "markdown",
   "id": "bfe067a7-9428-4346-b6ac-23b05ac70c72",
   "metadata": {},
   "source": [
    "We will rely on phenotypes provided by the Human Phenotype Ontology (download from https://hpo.jax.org/app/data/ontology)"
   ]
  },
  {
   "cell_type": "code",
   "execution_count": 28,
   "id": "d719409e-c691-449a-ab08-e7479cf4d5d1",
   "metadata": {},
   "outputs": [
    {
     "name": "stdout",
     "output_type": "stream",
     "text": [
      "Term    1-2 finger syndactyly,\n",
      "Name: 0, dtype: object\n",
      "Term    1-Methylhistidinuria\n",
      "Name: 0, dtype: object\n"
     ]
    }
   ],
   "source": [
    "import pandas as pd\n",
    "\n",
    "pheno_terms = pd.read_csv(\"/home/ressources/PBL/hp_terms.txt\", sep=\"\\t\",on_bad_lines='skip', )\n",
    "print(pheno_terms.iloc[0])\n",
    "pheno_syn_terms = pd.read_csv(\"/home/ressources/PBL/hp_synonyms.txt\", sep=\"\\t\",on_bad_lines='skip', )\n",
    "print(pheno_syn_terms.iloc[0])"
   ]
  },
  {
   "cell_type": "markdown",
   "id": "18c5eeab-250e-4054-b384-26efb5c79a02",
   "metadata": {},
   "source": [
    "The next steps takes about 30 seconds"
   ]
  },
  {
   "cell_type": "code",
   "execution_count": 29,
   "id": "ffa79f6a-87de-46ba-82bb-ea480ea84bad",
   "metadata": {},
   "outputs": [],
   "source": [
    "pheno_keywords_list=[]\n",
    "max_index = 0\n",
    "# Creation of the list of terms to be searched\n",
    "for i in range(0, len(pheno_terms)):\n",
    "    pheno_keywords_list.append(MedkitKeyword(label=pheno_terms.at[i, 'Term'], kb_id=i, kb_name=\"HPO\", ent_label='pheno'))\n",
    "    max_index = i\n",
    "\n",
    "pheno_matcher = Matcher.build(\n",
    "    keywords=pheno_keywords_list,\n",
    "    spellwise=[dict(measure=ESpellWiseAlgo.LEVENSHTEIN,max_distance=1,min_nb_char=10,)],\n",
    "    stopwords=[\"and\"],\n",
    "    w=2,\n",
    ")"
   ]
  },
  {
   "cell_type": "code",
   "execution_count": 30,
   "id": "922e97a6-517c-4c72-822a-2ba06a6750a5",
   "metadata": {},
   "outputs": [],
   "source": [
    "iam_matcher_pheno = IAMSystemMatcher(matcher = pheno_matcher, attrs_to_copy = [\"is_negated\", \"family\"])"
   ]
  },
  {
   "cell_type": "code",
   "execution_count": 31,
   "id": "a5ca55ac-023e-417a-8b85-9bcab6a3040c",
   "metadata": {},
   "outputs": [
    {
     "name": "stdout",
     "output_type": "stream",
     "text": [
      "text='asthma', spans=[Span(start=520, end=526)], label=pheno\n",
      "text='Allergic rhinitis', spans=[Span(start=1028, end=1036), ModifiedSpan(length=1, replaced_spans=[]), Span(start=1037, end=1045)], label=pheno\n",
      "text='2', spans=[Span(start=1222, end=1223)], label=pheno\n"
     ]
    }
   ],
   "source": [
    "entities = iam_matcher_pheno.run([doc.raw_segment])\n",
    "for entity in entities:\n",
    "    print(f\"text={entity.text!r}, spans={entity.spans}, label={entity.label}\")"
   ]
  },
  {
   "cell_type": "code",
   "execution_count": 32,
   "id": "a1bbbef7-0540-4bdf-a1d6-4dc39f37340f",
   "metadata": {},
   "outputs": [],
   "source": [
    "for entity in entities:\n",
    "    doc.anns.add(entity)"
   ]
  },
  {
   "cell_type": "code",
   "execution_count": 33,
   "id": "aea8979c-0dff-40cd-8285-d145e7e45e58",
   "metadata": {},
   "outputs": [
    {
     "data": {
      "text/html": [
       "<span class=\"tex2jax_ignore\"><div class=\"entities\" style=\"line-height: 2.5; direction: ltr\">SUBJECTIVE:,  This \n",
       "<mark class=\"entity\" style=\"background: #ff6961; padding: 0.45em 0.6em; margin: 0 0.25em; line-height: 1; border-radius: 0.35em;\">\n",
       "    23\n",
       "    <span style=\"font-size: 0.8em; font-weight: bold; line-height: 1; border-radius: 0.35em; vertical-align: middle; margin-left: 0.5rem\">number</span>\n",
       "</mark>\n",
       "-year-old white female presents with complaint of allergies.  She used to have allergies when she lived in Seattle but she thinks they are worse here.  In the past, she has tried \n",
       "<mark class=\"entity\" style=\"background: #ff9900; padding: 0.45em 0.6em; margin: 0 0.25em; line-height: 1; border-radius: 0.35em;\">\n",
       "    Claritin\n",
       "    <span style=\"font-size: 0.8em; font-weight: bold; line-height: 1; border-radius: 0.35em; vertical-align: middle; margin-left: 0.5rem\">drug</span>\n",
       "</mark>\n",
       ", and \n",
       "<mark class=\"entity\" style=\"background: #ff9900; padding: 0.45em 0.6em; margin: 0 0.25em; line-height: 1; border-radius: 0.35em;\">\n",
       "    Zyrtec\n",
       "    <span style=\"font-size: 0.8em; font-weight: bold; line-height: 1; border-radius: 0.35em; vertical-align: middle; margin-left: 0.5rem\">drug</span>\n",
       "</mark>\n",
       ".  Both worked for short time but then seemed to lose effectiveness.  She has used \n",
       "<mark class=\"entity\" style=\"background: #ff9900; padding: 0.45em 0.6em; margin: 0 0.25em; line-height: 1; border-radius: 0.35em;\">\n",
       "    Allegra\n",
       "    <span style=\"font-size: 0.8em; font-weight: bold; line-height: 1; border-radius: 0.35em; vertical-align: middle; margin-left: 0.5rem\">drug</span>\n",
       "</mark>\n",
       " also.  She used that last summer and she began using it again two weeks ago.  It does not appear to be working very well.  She has used over-the-counter sprays but no prescription nasal sprays.  She does have \n",
       "<mark class=\"entity\" style=\"background: #10ad10; padding: 0.45em 0.6em; margin: 0 0.25em; line-height: 1; border-radius: 0.35em;\">\n",
       "    asthma\n",
       "    <span style=\"font-size: 0.8em; font-weight: bold; line-height: 1; border-radius: 0.35em; vertical-align: middle; margin-left: 0.5rem\">pheno</span>\n",
       "</mark>\n",
       " but doest not require daily medication for this and does not think it is flaring up.,MEDICATIONS: , Her only medication currently is \n",
       "<mark class=\"entity\" style=\"background: #ff9900; padding: 0.45em 0.6em; margin: 0 0.25em; line-height: 1; border-radius: 0.35em;\">\n",
       "    Ortho Tri-Cyclen\n",
       "    <span style=\"font-size: 0.8em; font-weight: bold; line-height: 1; border-radius: 0.35em; vertical-align: middle; margin-left: 0.5rem\">drug</span>\n",
       "</mark>\n",
       " and the \n",
       "<mark class=\"entity\" style=\"background: #ff9900; padding: 0.45em 0.6em; margin: 0 0.25em; line-height: 1; border-radius: 0.35em;\">\n",
       "    Allegra\n",
       "    <span style=\"font-size: 0.8em; font-weight: bold; line-height: 1; border-radius: 0.35em; vertical-align: middle; margin-left: 0.5rem\">drug</span>\n",
       "</mark>\n",
       ".,ALLERGIES: , She has no known medicine allergies.,OBJECTIVE:,Vitals:  Weight was \n",
       "<mark class=\"entity\" style=\"background: #ff6961; padding: 0.45em 0.6em; margin: 0 0.25em; line-height: 1; border-radius: 0.35em;\">\n",
       "    130\n",
       "    <span style=\"font-size: 0.8em; font-weight: bold; line-height: 1; border-radius: 0.35em; vertical-align: middle; margin-left: 0.5rem\">number</span>\n",
       "</mark>\n",
       " pounds and blood pressure \n",
       "<mark class=\"entity\" style=\"background: #ff6961; padding: 0.45em 0.6em; margin: 0 0.25em; line-height: 1; border-radius: 0.35em;\">\n",
       "    124\n",
       "    <span style=\"font-size: 0.8em; font-weight: bold; line-height: 1; border-radius: 0.35em; vertical-align: middle; margin-left: 0.5rem\">number</span>\n",
       "</mark>\n",
       "124/78\n",
       "<mark class=\"entity\" style=\"background: #ff6961; padding: 0.45em 0.6em; margin: 0 0.25em; line-height: 1; border-radius: 0.35em;\">\n",
       "    78\n",
       "    <span style=\"font-size: 0.8em; font-weight: bold; line-height: 1; border-radius: 0.35em; vertical-align: middle; margin-left: 0.5rem\">number</span>\n",
       "</mark>\n",
       ".,HEENT:  Her throat was mildly erythematous without exudate.  Nasal mucosa was erythematous and swollen.  Only clear drainage was seen.  TMs were clear.,Neck:  Supple without adenopathy.,Lungs:  Clear.,ASSESSMENT:,  \n",
       "<mark class=\"entity\" style=\"background: #10ad10; padding: 0.45em 0.6em; margin: 0 0.25em; line-height: 1; border-radius: 0.35em;\">\n",
       "    Allergic rhinitis\n",
       "    <span style=\"font-size: 0.8em; font-weight: bold; line-height: 1; border-radius: 0.35em; vertical-align: middle; margin-left: 0.5rem\">pheno</span>\n",
       "</mark>\n",
       ".,PLAN:,\n",
       "<mark class=\"entity\" style=\"background: #ff6961; padding: 0.45em 0.6em; margin: 0 0.25em; line-height: 1; border-radius: 0.35em;\">\n",
       "    1\n",
       "    <span style=\"font-size: 0.8em; font-weight: bold; line-height: 1; border-radius: 0.35em; vertical-align: middle; margin-left: 0.5rem\">number</span>\n",
       "</mark>\n",
       ".  She will try \n",
       "<mark class=\"entity\" style=\"background: #ff9900; padding: 0.45em 0.6em; margin: 0 0.25em; line-height: 1; border-radius: 0.35em;\">\n",
       "    Zyrtec\n",
       "    <span style=\"font-size: 0.8em; font-weight: bold; line-height: 1; border-radius: 0.35em; vertical-align: middle; margin-left: 0.5rem\">drug</span>\n",
       "</mark>\n",
       " instead of \n",
       "<mark class=\"entity\" style=\"background: #ff9900; padding: 0.45em 0.6em; margin: 0 0.25em; line-height: 1; border-radius: 0.35em;\">\n",
       "    Allegra\n",
       "    <span style=\"font-size: 0.8em; font-weight: bold; line-height: 1; border-radius: 0.35em; vertical-align: middle; margin-left: 0.5rem\">drug</span>\n",
       "</mark>\n",
       " again.  Another option will be to use \n",
       "<mark class=\"entity\" style=\"background: #ff9900; padding: 0.45em 0.6em; margin: 0 0.25em; line-height: 1; border-radius: 0.35em;\">\n",
       "    loratadine\n",
       "    <span style=\"font-size: 0.8em; font-weight: bold; line-height: 1; border-radius: 0.35em; vertical-align: middle; margin-left: 0.5rem\">drug</span>\n",
       "</mark>\n",
       ".  She does not think she has prescription coverage so that might be cheaper.,\n",
       "<mark class=\"entity\" style=\"background: #ff6961; padding: 0.45em 0.6em; margin: 0 0.25em; line-height: 1; border-radius: 0.35em;\">\n",
       "    2\n",
       "    <span style=\"font-size: 0.8em; font-weight: bold; line-height: 1; border-radius: 0.35em; vertical-align: middle; margin-left: 0.5rem\">number</span>\n",
       "</mark>\n",
       "\n",
       "<mark class=\"entity\" style=\"background: #10ad10; padding: 0.45em 0.6em; margin: 0 0.25em; line-height: 1; border-radius: 0.35em;\">\n",
       "    2\n",
       "    <span style=\"font-size: 0.8em; font-weight: bold; line-height: 1; border-radius: 0.35em; vertical-align: middle; margin-left: 0.5rem\">pheno</span>\n",
       "</mark>\n",
       ".  Samples of \n",
       "<mark class=\"entity\" style=\"background: #ff9900; padding: 0.45em 0.6em; margin: 0 0.25em; line-height: 1; border-radius: 0.35em;\">\n",
       "    Nasonex\n",
       "    <span style=\"font-size: 0.8em; font-weight: bold; line-height: 1; border-radius: 0.35em; vertical-align: middle; margin-left: 0.5rem\">drug</span>\n",
       "</mark>\n",
       " two sprays in each nostril given for three weeks.  A prescription was written as well.</div></span>"
      ],
      "text/plain": [
       "<IPython.core.display.HTML object>"
      ]
     },
     "metadata": {},
     "output_type": "display_data"
    }
   ],
   "source": [
    "from spacy import displacy\n",
    "from medkit.text.spacy.displacy_utils import medkit_doc_to_displacy\n",
    "\n",
    "colors = {'weight': \"#85C1E9\", \"number\": \"#ff6961\", \"drug\":\"#ff9900\", \"pheno\" : \"#10ad10\"}\n",
    "options = {\"ents\": ['weight', 'number','drug', 'pheno'], \"colors\": colors}\n",
    "\n",
    "displacy_data = medkit_doc_to_displacy(doc)\n",
    "displacy.render(displacy_data, manual=True, style=\"ent\", options=options)"
   ]
  },
  {
   "cell_type": "markdown",
   "id": "f0a3f8e6-a742-428e-87ea-a0199f31fcbe",
   "metadata": {},
   "source": [
    "#### Exercice :\n",
    "\n",
    "Modify the code above to also capture synonymes of phenotypes."
   ]
  },
  {
   "cell_type": "markdown",
   "id": "930e06de-c548-4ec0-b560-26557a59a2b3",
   "metadata": {},
   "source": [
    "## Extracting entities using neural networks (transformers)"
   ]
  },
  {
   "cell_type": "markdown",
   "id": "bfebbcdb-e13f-4a92-a942-8622000f8e90",
   "metadata": {},
   "source": [
    "We will be using a model from the Huggingface repository (https://huggingface.co/d4data/biomedical-ner-all)"
   ]
  },
  {
   "cell_type": "code",
   "execution_count": 34,
   "id": "02d89386-aeca-4d09-8711-a010c6a2a32b",
   "metadata": {},
   "outputs": [],
   "source": [
    "from medkit.text.ner.hf_entity_matcher import HFEntityMatcher\n",
    "\n",
    "matcher = HFEntityMatcher(model=\"d4data/biomedical-ner-all\")\n",
    "# https://huggingface.co/d4data/biomedical-ner-all"
   ]
  },
  {
   "cell_type": "code",
   "execution_count": 36,
   "id": "9bed1704-0c04-4507-af60-28de1d4425f0",
   "metadata": {},
   "outputs": [
    {
     "name": "stdout",
     "output_type": "stream",
     "text": [
      "text='23-year-old', spans=[Span(start=19, end=30)], label=Age\n",
      "text='white', spans=[Span(start=31, end=36)], label=Personal_background\n",
      "text='female', spans=[Span(start=37, end=43)], label=Sex\n",
      "text='presents', spans=[Span(start=44, end=52)], label=Clinical_event\n",
      "text='allergies', spans=[Span(start=100, end=109)], label=Disease_disorder\n",
      "text='Seattle', spans=[Span(start=128, end=135)], label=Nonbiological_location\n",
      "text='summer', spans=[Span(start=337, end=343)], label=Duration\n",
      "text='two', spans=[Span(start=373, end=376)], label=Duration\n",
      "text='over', spans=[Span(start=447, end=451)], label=Detailed_description\n",
      "text='counter', spans=[Span(start=456, end=463)], label=Detailed_description\n",
      "text='asthma', spans=[Span(start=520, end=526)], label=History\n",
      "text='medication', spans=[Span(start=555, end=565)], label=Medication\n",
      "text='Ortho Tri-Cyclen', spans=[Span(start=660, end=676)], label=Medication\n",
      "text='Vitals', spans=[Span(start=755, end=761)], label=Diagnostic_procedure\n",
      "text='Weight', spans=[Span(start=764, end=770)], label=Diagnostic_procedure\n",
      "text='130 pounds', spans=[Span(start=775, end=785)], label=Lab_value\n",
      "text='blood pressure', spans=[Span(start=790, end=804)], label=Diagnostic_procedure\n",
      "text='124', spans=[Span(start=805, end=808)], label=Lab_value\n",
      "text='throat', spans=[Span(start=825, end=831)], label=Biological_structure\n",
      "text='erythematous', spans=[Span(start=843, end=855)], label=Sign_symptom\n",
      "text='Nasal mucosa', spans=[Span(start=874, end=886)], label=Biological_structure\n",
      "text='erythematous', spans=[Span(start=891, end=903)], label=Sign_symptom\n",
      "text='TMs', spans=[Span(start=949, end=952)], label=Diagnostic_procedure\n",
      "text='Neck', spans=[Span(start=965, end=969)], label=Biological_structure\n",
      "text='Nasonex', spans=[Span(start=1237, end=1244)], label=Medication\n",
      "text='each nostril', spans=[Span(start=1259, end=1271)], label=Biological_structure\n"
     ]
    }
   ],
   "source": [
    "# detect entities in the raw segment\n",
    "detected_entities = matcher.run([doc.raw_segment]) \n",
    "for entity in detected_entities:\n",
    "    print(f\"text={entity.text!r}, spans={entity.spans}, label={entity.label}\")"
   ]
  },
  {
   "cell_type": "markdown",
   "id": "dda07b5d-61af-48d0-af2f-215cbce764ca",
   "metadata": {},
   "source": [
    "Let's visualize only the Sign and symptomes"
   ]
  },
  {
   "cell_type": "code",
   "execution_count": 37,
   "id": "0167fcec-2daf-465b-a901-aeedce7862a1",
   "metadata": {},
   "outputs": [],
   "source": [
    "for entity in detected_entities:\n",
    "    if entity.label==\"Sign_symptom\" or entity.label==\"Biological_structure\":\n",
    "        doc.anns.add(entity)"
   ]
  },
  {
   "cell_type": "code",
   "execution_count": 38,
   "id": "141856f7-95c0-4bfc-92e3-6a7528177e21",
   "metadata": {},
   "outputs": [
    {
     "data": {
      "text/html": [
       "<span class=\"tex2jax_ignore\"><div class=\"entities\" style=\"line-height: 2.5; direction: ltr\">SUBJECTIVE:,  This \n",
       "<mark class=\"entity\" style=\"background: #ff6961; padding: 0.45em 0.6em; margin: 0 0.25em; line-height: 1; border-radius: 0.35em;\">\n",
       "    23\n",
       "    <span style=\"font-size: 0.8em; font-weight: bold; line-height: 1; border-radius: 0.35em; vertical-align: middle; margin-left: 0.5rem\">number</span>\n",
       "</mark>\n",
       "-year-old white female presents with complaint of allergies.  She used to have allergies when she lived in Seattle but she thinks they are worse here.  In the past, she has tried \n",
       "<mark class=\"entity\" style=\"background: #ff9900; padding: 0.45em 0.6em; margin: 0 0.25em; line-height: 1; border-radius: 0.35em;\">\n",
       "    Claritin\n",
       "    <span style=\"font-size: 0.8em; font-weight: bold; line-height: 1; border-radius: 0.35em; vertical-align: middle; margin-left: 0.5rem\">drug</span>\n",
       "</mark>\n",
       ", and \n",
       "<mark class=\"entity\" style=\"background: #ff9900; padding: 0.45em 0.6em; margin: 0 0.25em; line-height: 1; border-radius: 0.35em;\">\n",
       "    Zyrtec\n",
       "    <span style=\"font-size: 0.8em; font-weight: bold; line-height: 1; border-radius: 0.35em; vertical-align: middle; margin-left: 0.5rem\">drug</span>\n",
       "</mark>\n",
       ".  Both worked for short time but then seemed to lose effectiveness.  She has used \n",
       "<mark class=\"entity\" style=\"background: #ff9900; padding: 0.45em 0.6em; margin: 0 0.25em; line-height: 1; border-radius: 0.35em;\">\n",
       "    Allegra\n",
       "    <span style=\"font-size: 0.8em; font-weight: bold; line-height: 1; border-radius: 0.35em; vertical-align: middle; margin-left: 0.5rem\">drug</span>\n",
       "</mark>\n",
       " also.  She used that last summer and she began using it again two weeks ago.  It does not appear to be working very well.  She has used over-the-counter sprays but no prescription nasal sprays.  She does have \n",
       "<mark class=\"entity\" style=\"background: #10ad10; padding: 0.45em 0.6em; margin: 0 0.25em; line-height: 1; border-radius: 0.35em;\">\n",
       "    asthma\n",
       "    <span style=\"font-size: 0.8em; font-weight: bold; line-height: 1; border-radius: 0.35em; vertical-align: middle; margin-left: 0.5rem\">pheno</span>\n",
       "</mark>\n",
       " but doest not require daily medication for this and does not think it is flaring up.,MEDICATIONS: , Her only medication currently is \n",
       "<mark class=\"entity\" style=\"background: #ff9900; padding: 0.45em 0.6em; margin: 0 0.25em; line-height: 1; border-radius: 0.35em;\">\n",
       "    Ortho Tri-Cyclen\n",
       "    <span style=\"font-size: 0.8em; font-weight: bold; line-height: 1; border-radius: 0.35em; vertical-align: middle; margin-left: 0.5rem\">drug</span>\n",
       "</mark>\n",
       " and the \n",
       "<mark class=\"entity\" style=\"background: #ff9900; padding: 0.45em 0.6em; margin: 0 0.25em; line-height: 1; border-radius: 0.35em;\">\n",
       "    Allegra\n",
       "    <span style=\"font-size: 0.8em; font-weight: bold; line-height: 1; border-radius: 0.35em; vertical-align: middle; margin-left: 0.5rem\">drug</span>\n",
       "</mark>\n",
       ".,ALLERGIES: , She has no known medicine allergies.,OBJECTIVE:,Vitals:  Weight was \n",
       "<mark class=\"entity\" style=\"background: #ff6961; padding: 0.45em 0.6em; margin: 0 0.25em; line-height: 1; border-radius: 0.35em;\">\n",
       "    130\n",
       "    <span style=\"font-size: 0.8em; font-weight: bold; line-height: 1; border-radius: 0.35em; vertical-align: middle; margin-left: 0.5rem\">number</span>\n",
       "</mark>\n",
       " pounds and blood pressure \n",
       "<mark class=\"entity\" style=\"background: #ff6961; padding: 0.45em 0.6em; margin: 0 0.25em; line-height: 1; border-radius: 0.35em;\">\n",
       "    124\n",
       "    <span style=\"font-size: 0.8em; font-weight: bold; line-height: 1; border-radius: 0.35em; vertical-align: middle; margin-left: 0.5rem\">number</span>\n",
       "</mark>\n",
       "124/78\n",
       "<mark class=\"entity\" style=\"background: #ff6961; padding: 0.45em 0.6em; margin: 0 0.25em; line-height: 1; border-radius: 0.35em;\">\n",
       "    78\n",
       "    <span style=\"font-size: 0.8em; font-weight: bold; line-height: 1; border-radius: 0.35em; vertical-align: middle; margin-left: 0.5rem\">number</span>\n",
       "</mark>\n",
       ".,HEENT:  Her \n",
       "<mark class=\"entity\" style=\"background: #dcdcdc; padding: 0.45em 0.6em; margin: 0 0.25em; line-height: 1; border-radius: 0.35em;\">\n",
       "    throat\n",
       "    <span style=\"font-size: 0.8em; font-weight: bold; line-height: 1; border-radius: 0.35em; vertical-align: middle; margin-left: 0.5rem\">Biological_structure</span>\n",
       "</mark>\n",
       " was mildly \n",
       "<mark class=\"entity\" style=\"background: #0281fa; padding: 0.45em 0.6em; margin: 0 0.25em; line-height: 1; border-radius: 0.35em;\">\n",
       "    erythematous\n",
       "    <span style=\"font-size: 0.8em; font-weight: bold; line-height: 1; border-radius: 0.35em; vertical-align: middle; margin-left: 0.5rem\">Sign_symptom</span>\n",
       "</mark>\n",
       " without exudate.  \n",
       "<mark class=\"entity\" style=\"background: #dcdcdc; padding: 0.45em 0.6em; margin: 0 0.25em; line-height: 1; border-radius: 0.35em;\">\n",
       "    Nasal mucosa\n",
       "    <span style=\"font-size: 0.8em; font-weight: bold; line-height: 1; border-radius: 0.35em; vertical-align: middle; margin-left: 0.5rem\">Biological_structure</span>\n",
       "</mark>\n",
       " was \n",
       "<mark class=\"entity\" style=\"background: #0281fa; padding: 0.45em 0.6em; margin: 0 0.25em; line-height: 1; border-radius: 0.35em;\">\n",
       "    erythematous\n",
       "    <span style=\"font-size: 0.8em; font-weight: bold; line-height: 1; border-radius: 0.35em; vertical-align: middle; margin-left: 0.5rem\">Sign_symptom</span>\n",
       "</mark>\n",
       " and swollen.  Only clear drainage was seen.  TMs were clear.,\n",
       "<mark class=\"entity\" style=\"background: #dcdcdc; padding: 0.45em 0.6em; margin: 0 0.25em; line-height: 1; border-radius: 0.35em;\">\n",
       "    Neck\n",
       "    <span style=\"font-size: 0.8em; font-weight: bold; line-height: 1; border-radius: 0.35em; vertical-align: middle; margin-left: 0.5rem\">Biological_structure</span>\n",
       "</mark>\n",
       ":  Supple without adenopathy.,Lungs:  Clear.,ASSESSMENT:,  \n",
       "<mark class=\"entity\" style=\"background: #10ad10; padding: 0.45em 0.6em; margin: 0 0.25em; line-height: 1; border-radius: 0.35em;\">\n",
       "    Allergic rhinitis\n",
       "    <span style=\"font-size: 0.8em; font-weight: bold; line-height: 1; border-radius: 0.35em; vertical-align: middle; margin-left: 0.5rem\">pheno</span>\n",
       "</mark>\n",
       ".,PLAN:,\n",
       "<mark class=\"entity\" style=\"background: #ff6961; padding: 0.45em 0.6em; margin: 0 0.25em; line-height: 1; border-radius: 0.35em;\">\n",
       "    1\n",
       "    <span style=\"font-size: 0.8em; font-weight: bold; line-height: 1; border-radius: 0.35em; vertical-align: middle; margin-left: 0.5rem\">number</span>\n",
       "</mark>\n",
       ".  She will try \n",
       "<mark class=\"entity\" style=\"background: #ff9900; padding: 0.45em 0.6em; margin: 0 0.25em; line-height: 1; border-radius: 0.35em;\">\n",
       "    Zyrtec\n",
       "    <span style=\"font-size: 0.8em; font-weight: bold; line-height: 1; border-radius: 0.35em; vertical-align: middle; margin-left: 0.5rem\">drug</span>\n",
       "</mark>\n",
       " instead of \n",
       "<mark class=\"entity\" style=\"background: #ff9900; padding: 0.45em 0.6em; margin: 0 0.25em; line-height: 1; border-radius: 0.35em;\">\n",
       "    Allegra\n",
       "    <span style=\"font-size: 0.8em; font-weight: bold; line-height: 1; border-radius: 0.35em; vertical-align: middle; margin-left: 0.5rem\">drug</span>\n",
       "</mark>\n",
       " again.  Another option will be to use \n",
       "<mark class=\"entity\" style=\"background: #ff9900; padding: 0.45em 0.6em; margin: 0 0.25em; line-height: 1; border-radius: 0.35em;\">\n",
       "    loratadine\n",
       "    <span style=\"font-size: 0.8em; font-weight: bold; line-height: 1; border-radius: 0.35em; vertical-align: middle; margin-left: 0.5rem\">drug</span>\n",
       "</mark>\n",
       ".  She does not think she has prescription coverage so that might be cheaper.,\n",
       "<mark class=\"entity\" style=\"background: #ff6961; padding: 0.45em 0.6em; margin: 0 0.25em; line-height: 1; border-radius: 0.35em;\">\n",
       "    2\n",
       "    <span style=\"font-size: 0.8em; font-weight: bold; line-height: 1; border-radius: 0.35em; vertical-align: middle; margin-left: 0.5rem\">number</span>\n",
       "</mark>\n",
       "\n",
       "<mark class=\"entity\" style=\"background: #10ad10; padding: 0.45em 0.6em; margin: 0 0.25em; line-height: 1; border-radius: 0.35em;\">\n",
       "    2\n",
       "    <span style=\"font-size: 0.8em; font-weight: bold; line-height: 1; border-radius: 0.35em; vertical-align: middle; margin-left: 0.5rem\">pheno</span>\n",
       "</mark>\n",
       ".  Samples of \n",
       "<mark class=\"entity\" style=\"background: #ff9900; padding: 0.45em 0.6em; margin: 0 0.25em; line-height: 1; border-radius: 0.35em;\">\n",
       "    Nasonex\n",
       "    <span style=\"font-size: 0.8em; font-weight: bold; line-height: 1; border-radius: 0.35em; vertical-align: middle; margin-left: 0.5rem\">drug</span>\n",
       "</mark>\n",
       " two sprays in \n",
       "<mark class=\"entity\" style=\"background: #dcdcdc; padding: 0.45em 0.6em; margin: 0 0.25em; line-height: 1; border-radius: 0.35em;\">\n",
       "    each nostril\n",
       "    <span style=\"font-size: 0.8em; font-weight: bold; line-height: 1; border-radius: 0.35em; vertical-align: middle; margin-left: 0.5rem\">Biological_structure</span>\n",
       "</mark>\n",
       " given for three weeks.  A prescription was written as well.</div></span>"
      ],
      "text/plain": [
       "<IPython.core.display.HTML object>"
      ]
     },
     "metadata": {},
     "output_type": "display_data"
    }
   ],
   "source": [
    "from spacy import displacy\n",
    "from medkit.text.spacy.displacy_utils import medkit_doc_to_displacy\n",
    "\n",
    "colors = {'weight': \"#85C1E9\", \"number\": \"#ff6961\", \"drug\":\"#ff9900\", \n",
    "          \"pheno\" : \"#10ad10\", \"Sign_symptom\" : \"#0281fa\",\n",
    "         \"Biological_structure\" : \"#dcdcdc\"}\n",
    "options = {\"ents\": ['weight', 'number','drug', 'pheno','Sign_symptom','Biological_structure'], \"colors\": colors}\n",
    "\n",
    "displacy_data = medkit_doc_to_displacy(doc)\n",
    "displacy.render(displacy_data, manual=True, style=\"ent\", options=options)"
   ]
  },
  {
   "cell_type": "markdown",
   "id": "cf98f7a0-0a95-48d3-b073-a4236c417ac4",
   "metadata": {},
   "source": [
    "#### Exercice :\n",
    "\n",
    "Add the entities of the class Sex, History and Disease_disorder as annotations to the document, and print them."
   ]
  },
  {
   "cell_type": "markdown",
   "id": "b00f547b-9281-409d-ba36-4f2ef76e19e8",
   "metadata": {},
   "source": [
    "# Detecting the context"
   ]
  },
  {
   "cell_type": "markdown",
   "id": "1970e260-ccd0-47d7-ab5b-f8e4b95fa0b4",
   "metadata": {},
   "source": [
    "Réinitialisation du document"
   ]
  },
  {
   "cell_type": "code",
   "execution_count": null,
   "id": "4b9a57f4-da08-4f39-aa4e-53714dd0752d",
   "metadata": {},
   "outputs": [],
   "source": [
    "from medkit.core.text import TextDocument\n",
    "\n",
    "doc = TextDocument(text=docs.iloc[0]['transcription'])\n",
    "print(doc.text)"
   ]
  },
  {
   "cell_type": "markdown",
   "id": "abcf2ca3-75f1-466f-8f83-be556fcf9a79",
   "metadata": {},
   "source": [
    "On découpe d'abord le texte en phrase."
   ]
  },
  {
   "cell_type": "code",
   "execution_count": null,
   "id": "b4367924-e80c-401f-b946-8f037c9901e3",
   "metadata": {},
   "outputs": [],
   "source": [
    "from medkit.text.segmentation import SentenceTokenizer\n",
    "\n",
    "sentence_tokenizer = SentenceTokenizer(\n",
    "    output_label=\"sentence\",\n",
    "    keep_punct=True,\n",
    "    split_on_newlines=True,\n",
    ")\n",
    "\n",
    "# Run the sentence tokenizer on the section segments,\n",
    "# not on the full text\n",
    "sentence_segs = sentence_tokenizer.run([doc.raw_segment])\n",
    "\n",
    "for sentence_seg in sentence_segs:\n",
    "    print(\"Sentence: \",sentence_seg.text, end=\"\\n\\n\")"
   ]
  },
  {
   "cell_type": "markdown",
   "id": "6e956910-5594-4bfb-bad4-64f950370df3",
   "metadata": {},
   "source": [
    "On cherche maintenant des marqueurs d'antécédents familiaux et de négation dans les phrases"
   ]
  },
  {
   "cell_type": "code",
   "execution_count": null,
   "id": "c71b650d-ca00-48b9-a2a0-ba2097e47aaf",
   "metadata": {},
   "outputs": [],
   "source": [
    "from medkit.text.context import FamilyDetector, FamilyDetectorRule\n",
    "\n",
    "family_rule_1 = FamilyDetectorRule(\n",
    "    # Pattern to search inside each input segment.\n",
    "    # If the pattern is found, the segment will be flagged\n",
    "    # as being related to family history\n",
    "    regexp=r\"\\bfamily\\b\",\n",
    "    # Optional exclusions patterns: if found,\n",
    "    # the segment won't be flagged\n",
    "    # (Exclusion regexps are also supported for RegexpMatcher)\n",
    "    exclusion_regexps=[r\"\\bwith (his|her) family\\b\"],\n",
    "    # The regexp will be used with a case-insensitivity flag\n",
    "    case_sensitive=False,\n",
    "    # Special chars in the input text will be converted\n",
    "    # to equivalent ASCII char before runing the regexp on it\n",
    "    unicode_sensitive=False,\n",
    ")\n",
    "\n",
    "family_rule_2 = FamilyDetectorRule(\n",
    "    regexp=r\"\\bfamilial\\s+history\\b\",\n",
    "    case_sensitive=False,\n",
    "    unicode_sensitive=False,\n",
    ")\n",
    "family_rule_3 = FamilyDetectorRule(\n",
    "    regexp=r\"father|mother|brother|sister|cousin|uncle|aunt\",\n",
    "    case_sensitive=False,\n",
    "    unicode_sensitive=False,\n",
    ")\n",
    "\n",
    "\n",
    "family_detector = FamilyDetector(rules=[family_rule_1, family_rule_2, family_rule_3], output_label=\"family\")\n",
    "# The family detector doesn't return anything but instead adds an attribute to each\n",
    "# segment with a boolean value indicating if description of family history was detected or not\n",
    "family_detector.run(sentence_segs)\n",
    "\n",
    "# Print sentences detected as being related to family history\n",
    "for sentence_seg in sentence_segs:\n",
    "    # Retrieve the attribute created by the family detector\n",
    "    family_attr = sentence_seg.attrs.get(label=\"family\")[0]\n",
    "    # Only print sentences about family history\n",
    "    if family_attr.value:\n",
    "        print(sentence_seg.text)"
   ]
  },
  {
   "cell_type": "code",
   "execution_count": null,
   "id": "1f415594-7f39-4027-8e5a-db7b17e367ec",
   "metadata": {},
   "outputs": [],
   "source": [
    "from medkit.text.segmentation import SyntagmaTokenizer\n",
    "\n",
    "# Here we will use the default settings of SyntagmaTokenizer,\n",
    "# but you can specify your own separator patterns\n",
    "syntagma_tokenizer = SyntagmaTokenizer(\n",
    "    output_label=\"syntagma\",\n",
    "    # We want to keep the section and family history information\n",
    "    # at the syntagma level\n",
    "    attrs_to_copy=[\"family\"],\n",
    ")\n",
    "# The syntagma tokenizer expects sentence segments as input\n",
    "syntagma_segs = syntagma_tokenizer.run(sentence_segs)\n",
    "\n",
    "for syntagma_seg in syntagma_segs:\n",
    "    print(syntagma_seg.text)"
   ]
  },
  {
   "cell_type": "code",
   "execution_count": null,
   "id": "19b01a1a-3a70-4ea5-8569-d50f2f6eb9cc",
   "metadata": {},
   "outputs": [],
   "source": [
    "from medkit.text.context import NegationDetector, NegationDetectorRule\n",
    "\n",
    "negation_rule_1 = NegationDetectorRule(\n",
    "    regexp=r\"absence|\\bno\\b|\\bnot\\b|\\bnormal\\b\",\n",
    "    case_sensitive=False,\n",
    "    unicode_sensitive=False,\n",
    ")\n",
    "\n",
    "# NegationDetectorRule objects have the same structure as FamilyDetectorRule\n",
    "# Here we will use the default rules\n",
    "negation_detector = NegationDetector(rules=[negation_rule_1], output_label=\"negation\")\n",
    "negation_detector.run(syntagma_segs)\n",
    "\n",
    "# Display negated syntagmas\n",
    "for syntagma_seg in syntagma_segs:\n",
    "    negation_attr = syntagma_seg.attrs.get(label=\"negation\")[0]\n",
    "    if negation_attr.value:\n",
    "        print(syntagma_seg.text)"
   ]
  },
  {
   "cell_type": "markdown",
   "id": "b8a02f8c-90da-46bd-bb6a-81a087478518",
   "metadata": {},
   "source": [
    "Après détection du contexte, on peut rechercher les entités"
   ]
  },
  {
   "cell_type": "code",
   "execution_count": null,
   "id": "d7ae5888-312a-4ab2-97a5-95336017ae75",
   "metadata": {},
   "outputs": [],
   "source": [
    "import pandas as pd\n",
    "\n",
    "pheno_terms = pd.read_csv(\"/home/ressources/PBL/hp_terms.txt\", sep=\"\\t\",on_bad_lines='skip', )\n",
    "print(pheno_terms.iloc[0])\n",
    "pheno_syn_terms = pd.read_csv(\"/home/ressources/PBL/hp_synonyms.txt\", sep=\"\\t\",on_bad_lines='skip', )\n",
    "print(pheno_syn_terms.iloc[0])"
   ]
  },
  {
   "cell_type": "code",
   "execution_count": null,
   "id": "df14d62e-bcc2-4a34-a41b-625b0f0bf0c2",
   "metadata": {},
   "outputs": [],
   "source": [
    "pheno_keywords_list=[]\n",
    "max_index = 0\n",
    "# Creation of the list of terms to be searched\n",
    "for i in range(0, len(pheno_terms)):\n",
    "    pheno_keywords_list.append(MedkitKeyword(label=pheno_terms.at[i, 'Term'], kb_id=i, kb_name=\"HPO\", ent_label='pheno'))\n",
    "    max_index = i\n",
    "\n",
    "pheno_matcher = Matcher.build(\n",
    "    keywords=pheno_keywords_list,\n",
    "    spellwise=[dict(measure=ESpellWiseAlgo.LEVENSHTEIN,max_distance=1,min_nb_char=10,)],\n",
    "    stopwords=[\"and\"],\n",
    "    w=2,\n",
    ")"
   ]
  },
  {
   "cell_type": "code",
   "execution_count": null,
   "id": "4aab1274-7f1f-4cac-a9f0-5171ca645443",
   "metadata": {},
   "outputs": [],
   "source": [
    "from iamsystem import Matcher\n",
    "from iamsystem import ESpellWiseAlgo\n",
    "\n",
    "from medkit.text.ner import RegexpMatcher, RegexpMatcherRule\n",
    "from medkit.text.ner.iamsystem_matcher import IAMSystemMatcher\n",
    "from medkit.text.ner.iamsystem_matcher import MedkitKeyword\n",
    "\n",
    "iam_matcher_pheno = IAMSystemMatcher(matcher = pheno_matcher, attrs_to_copy = [\"negation\", \"family\"])\n",
    "entities = iam_matcher_pheno.run(syntagma_segs)\n",
    "for entity in entities:\n",
    "    print(f\"text={entity.text!r}, spans={entity.spans}, label={entity.label}\")\n",
    "    family_attr = entity.attrs.get(label=\"family\")[0]\n",
    "    print(\"family:\", family_attr.value)\n",
    "    negation_attr = entity.attrs.get(label=\"negation\")[0]\n",
    "    print(\"negation:\", negation_attr.value)"
   ]
  },
  {
   "cell_type": "code",
   "execution_count": null,
   "id": "fb25094f-0d76-4c74-9f5f-e017e1c83a9f",
   "metadata": {},
   "outputs": [],
   "source": [
    "for entity in entities:\n",
    "    doc.anns.add(entity)"
   ]
  },
  {
   "cell_type": "code",
   "execution_count": null,
   "id": "4bc34867-d896-4334-a3c1-28b3192fc0f7",
   "metadata": {},
   "outputs": [],
   "source": [
    "from spacy import displacy\n",
    "from medkit.text.spacy.displacy_utils import medkit_doc_to_displacy\n",
    "\n",
    "# Define a custom formatter that will also display some context flags\n",
    "# ex: \"disorder[fn]\" for an entity with label \"disorder\" and\n",
    "# family and negation attributes set to True\n",
    "def _custom_formatter(entity):\n",
    "    label = entity.label\n",
    "    flags = []\n",
    "    \n",
    "    family_attr = entity.attrs.get(label=\"family\")[0]\n",
    "    if family_attr.value:\n",
    "        flags.append(\"f\")\n",
    "    negation_attr = entity.attrs.get(label=\"negation\")[0]\n",
    "    if negation_attr.value:\n",
    "        flags.append(\"n\")\n",
    "\n",
    "    if flags:\n",
    "        label += \"[\" + \"\".join(flags) + \"]\"\n",
    "    \n",
    "    return label\n",
    "\n",
    "# Pass the formatter to medkit_doc_to_displacy()\n",
    "displacy_data = medkit_doc_to_displacy(doc, entity_formatter=_custom_formatter)\n",
    "displacy.render(docs=displacy_data, manual=True, style=\"ent\")"
   ]
  },
  {
   "cell_type": "markdown",
   "id": "eb4136aa-6885-4fb8-b8b4-94cacd158ee8",
   "metadata": {},
   "source": [
    "# Annotation all the documents"
   ]
  },
  {
   "cell_type": "markdown",
   "id": "b6a1e2e3-e595-4aad-9eb9-935e5a8515ef",
   "metadata": {},
   "source": [
    "**Task 1**: identify the most frequent drugs"
   ]
  },
  {
   "cell_type": "code",
   "execution_count": 39,
   "id": "1a24ef29-4270-4475-bb4d-043d7bb00c18",
   "metadata": {},
   "outputs": [],
   "source": [
    "import pandas as pd\n",
    "docs = pd.read_csv('/home/ressources/PBL/mtsamples.csv')"
   ]
  },
  {
   "cell_type": "markdown",
   "id": "250e743a-8a10-4091-b229-4241f89fabdd",
   "metadata": {},
   "source": [
    "# Plotting all weights"
   ]
  },
  {
   "cell_type": "markdown",
   "id": "15b51e7f-666b-42e3-bb6c-5bc9098547cf",
   "metadata": {},
   "source": [
    "**Task2:** Extract all weight from the corpus"
   ]
  },
  {
   "cell_type": "code",
   "execution_count": null,
   "id": "aca5acdd-3f1f-4963-967c-74fde080ad04",
   "metadata": {},
   "outputs": [],
   "source": [
    "import pandas as pd\n",
    "import unicodedata\n",
    "import unidecode\n",
    "\n",
    "from medkit.text.ner import RegexpMatcher, RegexpMatcherRule\n",
    "from medkit.core.text import TextDocument\n",
    "from medkit.core.text import Segment, Span\n",
    "# from medkit.text.preprocessing import Normalizer, NormalizerRule\n",
    "from medkit.text.preprocessing import CharReplacer\n",
    "from medkit.text.preprocessing import (\n",
    "    CharReplacer,\n",
    "    LIGATURE_RULES,\n",
    "    SIGN_RULES,\n",
    "    SPACE_RULES,\n",
    "    DOT_RULES,\n",
    "    FRACTION_RULES,\n",
    "    QUOTATION_RULES,\n",
    ")\n",
    "\n",
    "characters_to_normalize = \"\"\"''', 'é', 'â', '\\xa0', 'à', 'è', 'ô', 'ê', 'À', 'µ', '➢', '–', '°', 'Œ', '�', '½', 'œ', 'ç', '…', 'Ï', '¼', 'ï', '²', 'É', '•', 'ë', 'û', '¾', 'ù', ':black_small_square:', 'î', '—', '«', '»', '®', '¿', 'Ô', '≥', '¤', '³', 'Í', 'Î', 'å', 'ð', 'ñ', 'ò', '÷', 'ø', 'Ó', 'Å', '‡', 'Š', '■', '⇨', ''', 'β', '\\u2002', 'ü', '„', 'ì', 'Û', 'Ç', '¹', 'ž', 'ú', '□', '●', '´', '¶', 'ö', 'Þ', 'Ò', 'Æ', 'Ë', '¡', 'õ', 'ä', 'Ù', 'Ã', '¨', 'š', 'Ú', '✓', '←', 'Ê', 'α', '§', '©', '·', '¸', '×', 'Ø', 'Ì', '™', 'È', 'μ', '−', '◙', 'Δ', 'ª', 'Â', '→', '£', '¦', '≈', 'ó', 'æ', '❖', 'Ö', 'ˆ', '‰', 'Ž', '±', 'Ý', '‚', '›', '¬', 'ß', 'ý', 'þ', 'ÿ', 'Õ', 'Ñ', '¢', '⋄', '€', '˜', '¯', 'í', 'á', 'Ü', 'º', '†', '‹', '\\u0600', 'ࠂ', 'ࠄ', '࠘', '࠺', '࠼', 'ࡌ', 'ࡎ', 'ࡘ', '\\u086c', '\\u086e', '\\u0874', '\\u08c8', 'ࣔ', 'ࣖ', 'ࣺ', 'ं', 'ऐ', 'ऒ', 'द', 'न', 'प', 'ऴ', 'श', 'स', 'ऺ', '॒', '॔', 'ॶ', 'ॸ', 'ॺ', 'জ', 'ল', '\\ueaee', '\\uead5', '\\uead1', '싌', 'ꮶ', 'ꮢ', '鎶', '膫', '沓', '뚓', '屡', '퇪', '\\uea5c', '呜', 'ᘎ', '써', '䥳', '洀', 'ፈ', '猄', 'ᘉ', '㸀', 'Ī', 'ᘔ', '㔀', '脈', '䩃', '\\u085c', '憁', '\\u1c4a', '̨', 'ᘀ', '쉨', '띱', 'ࡕ', '封', '䩡', '䡭', 'Ѐ', '䡮', '\\u0875', 'ȣ', '樃', 'ࠆ', 'ᘁ', '̝', 'ᘐ', 'ᡊ', 'ᘗ', '⨾', '䌁', '尀', 'ᘓ', '⁊', '㥉', '㥊', '㨀', '㨊', '㨌', '㨔', '㨖', '㨪', '㨬', '㨮', '㨸', '㨺', '㩪', '㩬', '㩴', '㩶', '㪦', '㪨', '㫄', '㬖', '㬜', '㭆', '㭈', '㭊', '㭎', '㭐', '㭚', '㭾', '㮔', '㮴', '㮶', '㮸', '㮺', '㮼', '㯀', '㯂', '㯆', '㯈', '㯌', '㯎', '㯪', '㯮', '겾', '짞', '뻞', '뺤', '뺜', '뺍', '뺅', '群', '獷', 'ᘆ', 'ᡨ', '䘕', 'ཨ', '理', '̏', '唀', 'Ĉ', 'ᘊ', '䌀', '䉨', '츁', 'ᙊ', '愀', 'ᔜ', '票', '瀉', '㕨', '騜', '伀', '͊', '儀', '덨', '렐', '˅', 'ᔁ', '뽨', '罹', 'ᔔ', 'ᔀ', 'ɍ', '\"', '\"', 'Ä', 'ƒ', 'ã', 'Ÿ', '¥', '彟', 'ഠ', '\\u200d', '䕒', '乁', '䵉', '呁', '佉', '⁎', '䕍', '䥄', '䅃', '䕌', '\\u0d0d', '桃', '晥', '搠', '\\u2065', '敓', '癲', '捩', '\\u0d65', '倠', '\\u2e72', '䨠', '慥', '\\u2d6e', '癙', '獥', '䘠', '䝁', '乏', '吠', '泩', '烩', '潨', '敮', '㨠', '〠', '‱', '㘵', '㈳', 'റ', '摁', '潪', '湩', '獴', '牐', '\\u202e', '敊', '湡', '䰭', '捵', '䐠', '䕉', '䱈', '\\ue954', '\\ue96c', '桰', '湯', '\\u3130', '㔠', '‶', '㤰', '㌠', '′', '㌱', '牄', '浅', '慭', '畮', '汥', '䜠', '䕕', '佒', 'ൔ', 'ㄠ', 'ല', '䄠', '慮', '丠', '噏', '剁', 'ു', '䌠', '牨', '獩', '潴', '䅆', '卉', '൙', '㈠', 'ര', '\\u2073', '敤', 'Á', '\\xad', 'ࢲ', '࣪', '࣬', '࣭', '࣮', 'ऀ', 'ऍ', 'ऎ', 'ग', 'ङ', 'ड', 'ण', 'थ', 'ू', 'ॉ', '॓', 'ॗ', 'फ़', 'ॠ', '२', '३', '७', 'ॱ', 'ॳ', 'ॼ', 'ং', 'র', 'া', '\\u09d9', 'ਃ', 'ਆ', 'ਇ', 'ਚ', 'ਛ', 'ਤ', 'ਥ', '\\u0a31', 'ਲ', 'ਸ਼', '\\u0a37', '\\u0a4e', 'ધ', 'ુ', '\\ue7f5', '싍', 'ꮷ', 'ꏵ', '貗', '貣', '碁', 'ᘑ', 'ɨ', '湽', '瑨', '쑞', 'ᔗ', '歨'\"\"\"\n",
    "\n",
    "normalized_rules = []\n",
    "for ch in characters_to_normalize:\n",
    "    if len(ch) != len(unidecode.unidecode(ch)):\n",
    "        #normalized_rules.append(NormalizerRule(ch, unidecode.unidecode(ch)))\n",
    "        normalized_rules.append([ch, unidecode.unidecode(ch)])\n",
    "\n",
    "#normalized_rules_set = [*default_rules, *normalized_rules]\n",
    "rules = (\n",
    "    LIGATURE_RULES\n",
    "    + SIGN_RULES\n",
    "    + SPACE_RULES\n",
    "    + DOT_RULES\n",
    "    + FRACTION_RULES\n",
    "    + QUOTATION_RULES\n",
    "    + normalized_rules\n",
    ")\n",
    "\n",
    "#preprocessing_op  = Normalizer(output_label=\"clean_segment\", rules=normalized_rules_set)\n",
    "# preprocessing_op  = Normalizer(output_label=\"clean_segment\", rules=default_rules)\n",
    "preprocessing_char_op = CharReplacer(output_label=\"clean_segment\", rules=rules)\n",
    "\n",
    "regexp_rules = [\n",
    "    RegexpMatcherRule(regexp=r\"### Complete the REGEX here #######\", label=\"weight\"),\n",
    "    #RegexpMatcherRule(regexp=r\"[0-9]+\", label=\"number\"), # change this rule to detect blood pressure (the form is usually 120/80\n",
    "    # copy the model to add a rule to identify the size and the BMI\n",
    "]\n",
    "regexp_matcher = RegexpMatcher(rules=regexp_rules)\n",
    "\n",
    "annotated_documents_regex = []\n",
    "\n",
    "### Complete the code below\n",
    "\n",
    "docs = pd.read_csv('/home/ressources/PBL/mtsamples.csv')\n",
    "\n",
    "for i in range(0,len(docs)):\n",
    "    doc = TextDocument(text=str(docs.iloc[i]['transcription']))\n",
    "    annotated_documents.append(doc)\n",
    "    normalized = preprocessing_char_op.run([doc.raw_segment])\n",
    "    entities = regexp_matcher.run(normalized)\n",
    "    for entity in entities:\n",
    "        doc.anns.add(entity)"
   ]
  },
  {
   "cell_type": "markdown",
   "id": "ab982be0-045b-4790-8bb0-8d1ec06b707e",
   "metadata": {},
   "source": [
    "Normalize all weigth to kilograms (a pound = 0.453592 kg), store all the value in a data structure"
   ]
  },
  {
   "cell_type": "markdown",
   "id": "a264ed3d-0e45-44af-8e86-acfb7159cd0f",
   "metadata": {},
   "source": [
    "Plot the graph of all detected weights"
   ]
  }
 ],
 "metadata": {
  "kernelspec": {
   "display_name": "Python 3.10.8",
   "language": "python",
   "name": "py3.10.8"
  },
  "language_info": {
   "codemirror_mode": {
    "name": "ipython",
    "version": 3
   },
   "file_extension": ".py",
   "mimetype": "text/x-python",
   "name": "python",
   "nbconvert_exporter": "python",
   "pygments_lexer": "ipython3",
   "version": "3.10.8"
  }
 },
 "nbformat": 4,
 "nbformat_minor": 5
}
