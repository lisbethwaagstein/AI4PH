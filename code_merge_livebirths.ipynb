{
 "cells": [
  {
   "cell_type": "code",
   "execution_count": 1,
   "id": "0b8b8bd0-335d-40cb-9e90-d62ebc3d3cd6",
   "metadata": {},
   "outputs": [],
   "source": [
    "import pandas as pd\n",
    "import numpy as np"
   ]
  },
  {
   "cell_type": "code",
   "execution_count": 3,
   "id": "bca5c644-b870-4167-ae59-b2c5df13c9ab",
   "metadata": {},
   "outputs": [],
   "source": [
    "df_A = pd.read_csv(\"C:/mesdocuments/AI4PH/CHA_AI4PH/USA/database/natality22filtered1811_A.csv\", low_memory=False)"
   ]
  },
  {
   "cell_type": "code",
   "execution_count": null,
   "id": "9497effa-96bf-459a-b316-5cae898cee1c",
   "metadata": {},
   "outputs": [],
   "source": [
    "df_A.head()"
   ]
  },
  {
   "cell_type": "code",
   "execution_count": null,
   "id": "1108ba74-9b81-43ab-99d7-c24118d7abfe",
   "metadata": {},
   "outputs": [],
   "source": [
    "df_A.info()"
   ]
  },
  {
   "cell_type": "code",
   "execution_count": 5,
   "id": "f319a1ff-1b94-4f03-89d3-0f38aa4200fb",
   "metadata": {},
   "outputs": [],
   "source": [
    "df_B = pd.read_csv(\"C:/mesdocuments/AI4PH/CHA_AI4PH/USA/database/natality22filtered1811_B.csv\", low_memory=False)"
   ]
  },
  {
   "cell_type": "code",
   "execution_count": 9,
   "id": "bd36ff7c-0c56-45a8-9adb-c5abfdb1bd8d",
   "metadata": {},
   "outputs": [],
   "source": [
    "merged_live_df = pd.merge(df_A, df_B, on=\"seqnum_live\", how=\"outer\")"
   ]
  },
  {
   "cell_type": "code",
   "execution_count": 11,
   "id": "69e07833-b0e3-48ac-b43b-061b4adacfe8",
   "metadata": {},
   "outputs": [],
   "source": [
    "df_C = pd.read_csv(\"C:/mesdocuments/AI4PH/CHA_AI4PH/USA/database/natality22filtered1811_C.csv\", low_memory=False)"
   ]
  },
  {
   "cell_type": "code",
   "execution_count": 13,
   "id": "a61de592-1cfd-475a-aa55-9ae667459699",
   "metadata": {},
   "outputs": [],
   "source": [
    "df = pd.merge(merged_live_df, df_C, on=\"seqnum_live\", how=\"outer\")"
   ]
  },
  {
   "cell_type": "code",
   "execution_count": 15,
   "id": "b7950041-e068-448e-bce8-36013559a762",
   "metadata": {},
   "outputs": [
    {
     "data": {
      "text/html": [
       "<div>\n",
       "<style scoped>\n",
       "    .dataframe tbody tr th:only-of-type {\n",
       "        vertical-align: middle;\n",
       "    }\n",
       "\n",
       "    .dataframe tbody tr th {\n",
       "        vertical-align: top;\n",
       "    }\n",
       "\n",
       "    .dataframe thead th {\n",
       "        text-align: right;\n",
       "    }\n",
       "</style>\n",
       "<table border=\"1\" class=\"dataframe\">\n",
       "  <thead>\n",
       "    <tr style=\"text-align: right;\">\n",
       "      <th></th>\n",
       "      <th>dob_mm</th>\n",
       "      <th>mrace6</th>\n",
       "      <th>mhisp_r</th>\n",
       "      <th>frace6</th>\n",
       "      <th>fhisp_r</th>\n",
       "      <th>rf_phype</th>\n",
       "      <th>rf_ghype</th>\n",
       "      <th>rf_ehype</th>\n",
       "      <th>dplural</th>\n",
       "      <th>setorder_r</th>\n",
       "      <th>...</th>\n",
       "      <th>gwg</th>\n",
       "      <th>gdm</th>\n",
       "      <th>infection</th>\n",
       "      <th>low_income</th>\n",
       "      <th>africamer</th>\n",
       "      <th>father_race</th>\n",
       "      <th>gestation37</th>\n",
       "      <th>gestation34</th>\n",
       "      <th>stillbirth</th>\n",
       "      <th>priorsb</th>\n",
       "    </tr>\n",
       "  </thead>\n",
       "  <tbody>\n",
       "    <tr>\n",
       "      <th>0</th>\n",
       "      <td>1</td>\n",
       "      <td>1</td>\n",
       "      <td>0</td>\n",
       "      <td>1</td>\n",
       "      <td>0</td>\n",
       "      <td>N</td>\n",
       "      <td>N</td>\n",
       "      <td>N</td>\n",
       "      <td>1</td>\n",
       "      <td>9</td>\n",
       "      <td>...</td>\n",
       "      <td>NaN</td>\n",
       "      <td>0.0</td>\n",
       "      <td>0.0</td>\n",
       "      <td>0.0</td>\n",
       "      <td>0</td>\n",
       "      <td>1.0</td>\n",
       "      <td>2.0</td>\n",
       "      <td>2.0</td>\n",
       "      <td>0</td>\n",
       "      <td>0.0</td>\n",
       "    </tr>\n",
       "    <tr>\n",
       "      <th>1</th>\n",
       "      <td>1</td>\n",
       "      <td>1</td>\n",
       "      <td>0</td>\n",
       "      <td>1</td>\n",
       "      <td>0</td>\n",
       "      <td>N</td>\n",
       "      <td>N</td>\n",
       "      <td>N</td>\n",
       "      <td>1</td>\n",
       "      <td>9</td>\n",
       "      <td>...</td>\n",
       "      <td>4.0</td>\n",
       "      <td>0.0</td>\n",
       "      <td>0.0</td>\n",
       "      <td>0.0</td>\n",
       "      <td>0</td>\n",
       "      <td>1.0</td>\n",
       "      <td>2.0</td>\n",
       "      <td>2.0</td>\n",
       "      <td>0</td>\n",
       "      <td>0.0</td>\n",
       "    </tr>\n",
       "    <tr>\n",
       "      <th>2</th>\n",
       "      <td>1</td>\n",
       "      <td>1</td>\n",
       "      <td>0</td>\n",
       "      <td>1</td>\n",
       "      <td>0</td>\n",
       "      <td>N</td>\n",
       "      <td>N</td>\n",
       "      <td>N</td>\n",
       "      <td>1</td>\n",
       "      <td>9</td>\n",
       "      <td>...</td>\n",
       "      <td>4.0</td>\n",
       "      <td>0.0</td>\n",
       "      <td>0.0</td>\n",
       "      <td>NaN</td>\n",
       "      <td>0</td>\n",
       "      <td>1.0</td>\n",
       "      <td>2.0</td>\n",
       "      <td>2.0</td>\n",
       "      <td>0</td>\n",
       "      <td>1.0</td>\n",
       "    </tr>\n",
       "    <tr>\n",
       "      <th>3</th>\n",
       "      <td>1</td>\n",
       "      <td>1</td>\n",
       "      <td>0</td>\n",
       "      <td>1</td>\n",
       "      <td>0</td>\n",
       "      <td>N</td>\n",
       "      <td>N</td>\n",
       "      <td>N</td>\n",
       "      <td>1</td>\n",
       "      <td>9</td>\n",
       "      <td>...</td>\n",
       "      <td>3.0</td>\n",
       "      <td>0.0</td>\n",
       "      <td>0.0</td>\n",
       "      <td>NaN</td>\n",
       "      <td>0</td>\n",
       "      <td>1.0</td>\n",
       "      <td>2.0</td>\n",
       "      <td>2.0</td>\n",
       "      <td>0</td>\n",
       "      <td>0.0</td>\n",
       "    </tr>\n",
       "    <tr>\n",
       "      <th>4</th>\n",
       "      <td>1</td>\n",
       "      <td>1</td>\n",
       "      <td>0</td>\n",
       "      <td>1</td>\n",
       "      <td>0</td>\n",
       "      <td>N</td>\n",
       "      <td>Y</td>\n",
       "      <td>N</td>\n",
       "      <td>1</td>\n",
       "      <td>9</td>\n",
       "      <td>...</td>\n",
       "      <td>2.0</td>\n",
       "      <td>0.0</td>\n",
       "      <td>0.0</td>\n",
       "      <td>0.0</td>\n",
       "      <td>0</td>\n",
       "      <td>1.0</td>\n",
       "      <td>2.0</td>\n",
       "      <td>2.0</td>\n",
       "      <td>0</td>\n",
       "      <td>0.0</td>\n",
       "    </tr>\n",
       "  </tbody>\n",
       "</table>\n",
       "<p>5 rows × 45 columns</p>\n",
       "</div>"
      ],
      "text/plain": [
       "   dob_mm  mrace6  mhisp_r  frace6  fhisp_r rf_phype rf_ghype rf_ehype  \\\n",
       "0       1       1        0       1        0        N        N        N   \n",
       "1       1       1        0       1        0        N        N        N   \n",
       "2       1       1        0       1        0        N        N        N   \n",
       "3       1       1        0       1        0        N        N        N   \n",
       "4       1       1        0       1        0        N        Y        N   \n",
       "\n",
       "   dplural  setorder_r  ...  gwg  gdm  infection  low_income  africamer  \\\n",
       "0        1           9  ...  NaN  0.0        0.0         0.0          0   \n",
       "1        1           9  ...  4.0  0.0        0.0         0.0          0   \n",
       "2        1           9  ...  4.0  0.0        0.0         NaN          0   \n",
       "3        1           9  ...  3.0  0.0        0.0         NaN          0   \n",
       "4        1           9  ...  2.0  0.0        0.0         0.0          0   \n",
       "\n",
       "   father_race  gestation37  gestation34  stillbirth  priorsb  \n",
       "0          1.0          2.0          2.0           0      0.0  \n",
       "1          1.0          2.0          2.0           0      0.0  \n",
       "2          1.0          2.0          2.0           0      1.0  \n",
       "3          1.0          2.0          2.0           0      0.0  \n",
       "4          1.0          2.0          2.0           0      0.0  \n",
       "\n",
       "[5 rows x 45 columns]"
      ]
     },
     "execution_count": 15,
     "metadata": {},
     "output_type": "execute_result"
    }
   ],
   "source": [
    "df.head()"
   ]
  },
  {
   "cell_type": "code",
   "execution_count": 17,
   "id": "ff9f7baa-e9f5-4c6d-96dd-27534ee20dc6",
   "metadata": {},
   "outputs": [
    {
     "name": "stdout",
     "output_type": "stream",
     "text": [
      "<class 'pandas.core.frame.DataFrame'>\n",
      "RangeIndex: 3676029 entries, 0 to 3676028\n",
      "Data columns (total 45 columns):\n",
      " #   Column         Dtype  \n",
      "---  ------         -----  \n",
      " 0   dob_mm         int64  \n",
      " 1   mrace6         int64  \n",
      " 2   mhisp_r        int64  \n",
      " 3   frace6         int64  \n",
      " 4   fhisp_r        int64  \n",
      " 5   rf_phype       object \n",
      " 6   rf_ghype       object \n",
      " 7   rf_ehype       object \n",
      " 8   dplural        int64  \n",
      " 9   setorder_r     int64  \n",
      " 10  ghyptot        float64\n",
      " 11  rf_phype_num   float64\n",
      " 12  rf_pdiab_num   float64\n",
      " 13  livenullipara  float64\n",
      " 14  totnullipara   float64\n",
      " 15  interval       float64\n",
      " 16  bmi30          float64\n",
      " 17  age35          int64  \n",
      " 18  priorPTB       float64\n",
      " 19  ivf            float64\n",
      " 20  multifetal     int64  \n",
      " 21  foreignborn    float64\n",
      " 22  foreignres     int64  \n",
      " 23  seqnum_live    int64  \n",
      " 24  married        float64\n",
      " 25  nopaternity    float64\n",
      " 26  mother_educ    float64\n",
      " 27  pat_age35      float64\n",
      " 28  father_educ    float64\n",
      " 29  month_pn       float64\n",
      " 30  nb_pn          float64\n",
      " 31  cig0           float64\n",
      " 32  cig1           float64\n",
      " 33  cig2           float64\n",
      " 34  cig3           float64\n",
      " 35  gwg            float64\n",
      " 36  gdm            float64\n",
      " 37  infection      float64\n",
      " 38  low_income     float64\n",
      " 39  africamer      int64  \n",
      " 40  father_race    float64\n",
      " 41  gestation37    float64\n",
      " 42  gestation34    float64\n",
      " 43  stillbirth     int64  \n",
      " 44  priorsb        float64\n",
      "dtypes: float64(29), int64(13), object(3)\n",
      "memory usage: 1.2+ GB\n"
     ]
    }
   ],
   "source": [
    "df.info()"
   ]
  },
  {
   "cell_type": "code",
   "execution_count": null,
   "id": "d9cc6119-b843-444d-807a-5573e7e5a67f",
   "metadata": {},
   "outputs": [],
   "source": [
    "print(df['livenullipara'].value_counts())"
   ]
  },
  {
   "cell_type": "code",
   "execution_count": null,
   "id": "2ba034e4-0761-4c0b-aba1-12e294ff7dbe",
   "metadata": {},
   "outputs": [],
   "source": [
    "df['livenullipara']=df_A.livenullipara.replace(np.nan, 9)"
   ]
  },
  {
   "cell_type": "code",
   "execution_count": null,
   "id": "764cdd26-cf23-477e-8940-68f560852021",
   "metadata": {},
   "outputs": [],
   "source": [
    "print(df['livenullipara'].value_counts())"
   ]
  },
  {
   "cell_type": "code",
   "execution_count": null,
   "id": "0616fd55-96e9-477f-b857-b6e63a1e0fa2",
   "metadata": {},
   "outputs": [],
   "source": [
    "df['livenullipara']=df['livenullipara'].astype(int)"
   ]
  },
  {
   "cell_type": "code",
   "execution_count": null,
   "id": "3bc1e8ba-1823-44fc-8611-25e7239edc20",
   "metadata": {},
   "outputs": [],
   "source": [
    "print(df['livenullipara'].value_counts())"
   ]
  },
  {
   "cell_type": "code",
   "execution_count": null,
   "id": "4a283f1b-2ac3-41d1-8641-72f70ec6d9e5",
   "metadata": {},
   "outputs": [],
   "source": [
    "print(df['totnullipara'].value_counts())"
   ]
  },
  {
   "cell_type": "code",
   "execution_count": null,
   "id": "de6d71fe-e960-4ac0-aa7f-5a61995b03ce",
   "metadata": {},
   "outputs": [],
   "source": [
    "df['totnullipara']=df.totnullipara.replace(np.nan, 9)"
   ]
  },
  {
   "cell_type": "code",
   "execution_count": null,
   "id": "096c88da-1754-4b9d-aa58-8eb62283c6bf",
   "metadata": {},
   "outputs": [],
   "source": [
    "print(df['totnullipara'].value_counts())"
   ]
  },
  {
   "cell_type": "code",
   "execution_count": null,
   "id": "a42ddee4-9c8d-4a66-bc1c-6414a4965929",
   "metadata": {},
   "outputs": [],
   "source": [
    "df['totnullipara']=df['totnullipara'].astype(int)"
   ]
  },
  {
   "cell_type": "code",
   "execution_count": null,
   "id": "9a4885dc-b9c1-4967-bb3c-0719ff0ee446",
   "metadata": {},
   "outputs": [],
   "source": [
    "print(df['totnullipara'].value_counts())"
   ]
  },
  {
   "cell_type": "code",
   "execution_count": null,
   "id": "60d6543c-e0f7-4964-acf4-03d32bfabb56",
   "metadata": {},
   "outputs": [],
   "source": [
    "print(df['ghyptot'].value_counts())"
   ]
  },
  {
   "cell_type": "code",
   "execution_count": null,
   "id": "26ce515e-f081-4dcf-9b7c-5b9ca86d566d",
   "metadata": {},
   "outputs": [],
   "source": [
    "df['ghyptot']=df.ghyptot.replace(np.nan, 9)"
   ]
  },
  {
   "cell_type": "code",
   "execution_count": null,
   "id": "e3ec2fb8-fdf2-455b-9521-89852f7be98b",
   "metadata": {},
   "outputs": [],
   "source": [
    "print(df['ghyptot'].value_counts())"
   ]
  },
  {
   "cell_type": "code",
   "execution_count": null,
   "id": "929c4dae-3f66-436d-8263-22cea0664a54",
   "metadata": {},
   "outputs": [],
   "source": [
    "df['ghyptot']=df['ghyptot'].astype(int)"
   ]
  },
  {
   "cell_type": "code",
   "execution_count": null,
   "id": "90011edd-0c86-489e-ab96-e5b95c5b0055",
   "metadata": {},
   "outputs": [],
   "source": [
    "print(df['ghyptot'].value_counts())"
   ]
  },
  {
   "cell_type": "code",
   "execution_count": null,
   "id": "e2eb63c9-6c1e-4e30-bf17-9004644764ab",
   "metadata": {},
   "outputs": [],
   "source": [
    "print(df['interval'].value_counts())"
   ]
  },
  {
   "cell_type": "code",
   "execution_count": null,
   "id": "1e7eda20-9f0e-4b19-9787-36f80ed003d9",
   "metadata": {},
   "outputs": [],
   "source": [
    "df['interval']=df.interval.replace(np.nan, 9)"
   ]
  },
  {
   "cell_type": "code",
   "execution_count": null,
   "id": "6a00ba42-a167-41de-96f2-b56e2b7480c9",
   "metadata": {},
   "outputs": [],
   "source": [
    "print(df['interval'].value_counts())"
   ]
  },
  {
   "cell_type": "code",
   "execution_count": null,
   "id": "35c8e0cf-e9ed-4f02-92eb-ed497183022f",
   "metadata": {},
   "outputs": [],
   "source": [
    "df['interval']=df['interval'].astype(int)"
   ]
  },
  {
   "cell_type": "code",
   "execution_count": null,
   "id": "ecf96cd3-961f-49a0-b5aa-3d04abe09031",
   "metadata": {},
   "outputs": [],
   "source": [
    "print(df['interval'].value_counts())"
   ]
  },
  {
   "cell_type": "code",
   "execution_count": null,
   "id": "1b2f1fa6-f138-43d1-b0e1-69f3eed82e94",
   "metadata": {},
   "outputs": [],
   "source": [
    "print(df['bmi30'].value_counts())"
   ]
  },
  {
   "cell_type": "code",
   "execution_count": null,
   "id": "94179b13-9c16-4014-ad71-8fd9a70ee13f",
   "metadata": {},
   "outputs": [],
   "source": [
    "df['bmi30']=df.bmi30.replace(np.nan, 9)"
   ]
  },
  {
   "cell_type": "code",
   "execution_count": null,
   "id": "c6145d22-1c35-4812-9894-9555e1012ae0",
   "metadata": {},
   "outputs": [],
   "source": [
    "print(df['bmi30'].value_counts())"
   ]
  },
  {
   "cell_type": "code",
   "execution_count": null,
   "id": "82eba318-c80d-4722-80d1-23ada84b43ce",
   "metadata": {},
   "outputs": [],
   "source": [
    "df['bmi30']=df['bmi30'].astype(int)"
   ]
  },
  {
   "cell_type": "code",
   "execution_count": null,
   "id": "2729a8b3-d6df-426f-ae17-73b02a280f9e",
   "metadata": {},
   "outputs": [],
   "source": [
    "print(df['bmi30'].value_counts())"
   ]
  },
  {
   "cell_type": "code",
   "execution_count": null,
   "id": "6d22c7b4-c55e-46d9-99d1-1905ef5558d5",
   "metadata": {},
   "outputs": [],
   "source": [
    "print(df['priorPTB'].value_counts())"
   ]
  },
  {
   "cell_type": "code",
   "execution_count": null,
   "id": "90cf1859-f8b7-4cff-a4c3-8c6295722403",
   "metadata": {},
   "outputs": [],
   "source": [
    "df['priorPTB']=df.priorPTB.replace(np.nan, 9)"
   ]
  },
  {
   "cell_type": "code",
   "execution_count": null,
   "id": "c494ec34-222c-4ed5-bb9c-bba34e7fb456",
   "metadata": {},
   "outputs": [],
   "source": [
    "print(df['priorPTB'].value_counts())"
   ]
  },
  {
   "cell_type": "code",
   "execution_count": null,
   "id": "f7f3375a-911e-4b19-b2b4-083c6c55df7e",
   "metadata": {},
   "outputs": [],
   "source": [
    "df['priorPTB']=df['priorPTB'].astype(int)"
   ]
  },
  {
   "cell_type": "code",
   "execution_count": null,
   "id": "3f457266-53a4-434e-bb33-568cefd96b06",
   "metadata": {},
   "outputs": [],
   "source": [
    "print(df['priorPTB'].value_counts())"
   ]
  },
  {
   "cell_type": "code",
   "execution_count": null,
   "id": "fb28e74f-fee4-4f82-8c46-30681667efaf",
   "metadata": {},
   "outputs": [],
   "source": [
    "print(df['ivf'].value_counts())"
   ]
  },
  {
   "cell_type": "code",
   "execution_count": null,
   "id": "9f79f449-d43b-4191-b313-63051d65bae0",
   "metadata": {},
   "outputs": [],
   "source": [
    "df['ivf']=df.ivf.replace(np.nan, 9)"
   ]
  },
  {
   "cell_type": "code",
   "execution_count": null,
   "id": "9dbe3ffb-f0ae-47b1-a142-f0d617379f37",
   "metadata": {},
   "outputs": [],
   "source": [
    "print(df['ivf'].value_counts())"
   ]
  },
  {
   "cell_type": "code",
   "execution_count": null,
   "id": "e6f12884-3859-4320-98a1-7e739f867d51",
   "metadata": {},
   "outputs": [],
   "source": [
    "df['ivf']=df['ivf'].astype(int)"
   ]
  },
  {
   "cell_type": "code",
   "execution_count": null,
   "id": "d941b9e4-c2ac-4236-a07b-42b7decdfe64",
   "metadata": {},
   "outputs": [],
   "source": [
    "print(df['ivf'].value_counts())"
   ]
  },
  {
   "cell_type": "code",
   "execution_count": null,
   "id": "5b6ff871-d4f9-4157-b84a-a0dc22606e40",
   "metadata": {},
   "outputs": [],
   "source": [
    "print(df['foreignborn'].value_counts())"
   ]
  },
  {
   "cell_type": "code",
   "execution_count": null,
   "id": "67285a1d-26d3-4a2d-9ee6-1f23b3b15d30",
   "metadata": {},
   "outputs": [],
   "source": [
    "df['foreignborn']=df.foreignborn.replace(np.nan, 9)"
   ]
  },
  {
   "cell_type": "code",
   "execution_count": null,
   "id": "c7ecfab3-c248-4bed-a0ac-56a818b6ea70",
   "metadata": {},
   "outputs": [],
   "source": [
    "print(df['foreignborn'].value_counts())"
   ]
  },
  {
   "cell_type": "code",
   "execution_count": null,
   "id": "0d81ee03-6fe9-4d2a-b6c3-1ad510421481",
   "metadata": {},
   "outputs": [],
   "source": [
    "df['foreignborn']=df['foreignborn'].astype(int)"
   ]
  },
  {
   "cell_type": "code",
   "execution_count": null,
   "id": "cf8f1181-e26c-47a2-b90b-44074ed9b55d",
   "metadata": {},
   "outputs": [],
   "source": [
    "print(df['foreignborn'].value_counts())"
   ]
  },
  {
   "cell_type": "code",
   "execution_count": null,
   "id": "247ac58c-ca0c-4b55-bd20-156e49013788",
   "metadata": {},
   "outputs": [],
   "source": [
    "print(df['rf_phype_num'].value_counts())"
   ]
  },
  {
   "cell_type": "code",
   "execution_count": null,
   "id": "88ed28e5-5bcc-4716-9bbf-f35d562d861a",
   "metadata": {},
   "outputs": [],
   "source": [
    "print(df['rf_phype_num'].value_counts())\n",
    "df['rf_phype_num']=df.rf_phype_num.replace(np.nan, 9)\n",
    "print(df['rf_phype_num'].value_counts())\n",
    "df['rf_phype_num']=df['rf_phype_num'].astype(int)\n",
    "print(df['rf_phype_num'].value_counts())"
   ]
  },
  {
   "cell_type": "code",
   "execution_count": null,
   "id": "38347009-f2a0-4f41-bd35-79be3b5ba2c1",
   "metadata": {},
   "outputs": [],
   "source": [
    "print(df['rf_pdiab_num'].value_counts())\n",
    "df['rf_pdiab_num']=df.rf_pdiab_num.replace(np.nan, 9)\n",
    "print(df['rf_pdiab_num'].value_counts())\n",
    "df['rf_pdiab_num']=df['rf_pdiab_num'].astype(int)\n",
    "print(df['rf_pdiab_num'].value_counts())"
   ]
  },
  {
   "cell_type": "code",
   "execution_count": null,
   "id": "d7302c4b-014a-47d3-8903-cbff6dde467d",
   "metadata": {},
   "outputs": [],
   "source": [
    "print(df['married'].value_counts())\n",
    "df['married']=df.married.replace(np.nan, 9)\n",
    "print(df['married'].value_counts())\n",
    "df['married']=df['married'].astype(int)\n",
    "print(df['married'].value_counts())"
   ]
  },
  {
   "cell_type": "code",
   "execution_count": null,
   "id": "c014b09d-85d4-4b9c-8b7e-5cbf86f9155d",
   "metadata": {},
   "outputs": [],
   "source": [
    "print(df['nopaternity'].value_counts())\n",
    "df['nopaternity']=df.nopaternity.replace(np.nan, 9)\n",
    "print(df['nopaternity'].value_counts())\n",
    "df['nopaternity']=df['nopaternity'].astype(int)\n",
    "print(df['nopaternity'].value_counts())"
   ]
  },
  {
   "cell_type": "code",
   "execution_count": null,
   "id": "259b96e5-4b03-4258-930e-3bdc25c40b87",
   "metadata": {},
   "outputs": [],
   "source": [
    "print(df['mother_educ'].value_counts())\n",
    "df['mother_educ']=df.mother_educ.replace(np.nan, 9)\n",
    "print(df['mother_educ'].value_counts())\n",
    "df['mother_educ']=df['mother_educ'].astype(int)\n",
    "print(df['mother_educ'].value_counts())"
   ]
  },
  {
   "cell_type": "code",
   "execution_count": null,
   "id": "1dcebdc3-d69b-4564-a039-6dbb1a0bd444",
   "metadata": {},
   "outputs": [],
   "source": [
    "print(df['pat_age35'].value_counts())\n",
    "df['pat_age35']=df.pat_age35.replace(np.nan, 9)\n",
    "print(df['pat_age35'].value_counts())\n",
    "df['pat_age35']=df['pat_age35'].astype(int)\n",
    "print(df['pat_age35'].value_counts())"
   ]
  },
  {
   "cell_type": "code",
   "execution_count": null,
   "id": "25904225-41c4-4543-9e6d-08cefb38b4cf",
   "metadata": {},
   "outputs": [],
   "source": [
    "print(df['father_educ'].value_counts())\n",
    "df['father_educ']=df.father_educ.replace(np.nan, 9)\n",
    "print(df['father_educ'].value_counts())\n",
    "df['father_educ']=df['father_educ'].astype(int)\n",
    "print(df['father_educ'].value_counts())"
   ]
  },
  {
   "cell_type": "code",
   "execution_count": null,
   "id": "0c8343c1-35ca-409c-b451-b6514243e5cf",
   "metadata": {},
   "outputs": [],
   "source": [
    "print(df['month_pn'].value_counts())\n",
    "df['month_pn']=_df.month_pn.replace(np.nan, 9)\n",
    "print(df['month_pn'].value_counts())\n",
    "df['month_pn']=df['month_pn'].astype(int)\n",
    "print(df['month_pn'].value_counts())"
   ]
  },
  {
   "cell_type": "code",
   "execution_count": null,
   "id": "aa5a86ce-d20f-4c0a-8449-5ee4f1f47a58",
   "metadata": {},
   "outputs": [],
   "source": [
    "print(df['cig0'].value_counts())\n",
    "df['cig0']=df.cig0.replace(np.nan, 9)\n",
    "print(df['cig0'].value_counts())\n",
    "df['cig0']=df['cig0'].astype(int)\n",
    "print(df['cig0'].value_counts())"
   ]
  },
  {
   "cell_type": "code",
   "execution_count": null,
   "id": "b5b09f9c-20a1-4ef8-b005-a40a99831877",
   "metadata": {},
   "outputs": [],
   "source": [
    "print(df['cig1'].value_counts())\n",
    "df['cig1']=df.cig1.replace(np.nan, 9)\n",
    "print(df['cig1'].value_counts())\n",
    "df['cig1']=df['cig1'].astype(int)\n",
    "print(df['cig1'].value_counts())"
   ]
  },
  {
   "cell_type": "code",
   "execution_count": null,
   "id": "517df927-7f54-4220-9d82-23b6a925b1cd",
   "metadata": {},
   "outputs": [],
   "source": [
    "print(df['cig2'].value_counts())\n",
    "df['cig2']=df.cig2.replace(np.nan, 9)\n",
    "print(df['cig2'].value_counts())\n",
    "df['cig2']=df['cig2'].astype(int)\n",
    "print(df['cig2'].value_counts())"
   ]
  },
  {
   "cell_type": "code",
   "execution_count": null,
   "id": "28c04d26-4968-4866-84b8-a511e3d88e5c",
   "metadata": {},
   "outputs": [],
   "source": [
    "print(df['cig3'].value_counts())\n",
    "df['cig3']=df.cig3.replace(np.nan, 9)\n",
    "print(df['cig3'].value_counts())\n",
    "df['cig3']=df['cig3'].astype(int)\n",
    "print(df['cig3'].value_counts())"
   ]
  },
  {
   "cell_type": "code",
   "execution_count": null,
   "id": "e6a56ef9-650b-430b-8f9f-8da65edebc33",
   "metadata": {},
   "outputs": [],
   "source": [
    "print(df['gwg'].value_counts())\n",
    "df['gwg']=df.gwg.replace(np.nan, 9)\n",
    "print(df['gwg'].value_counts())\n",
    "df['gwg']=df['gwg'].astype(int)\n",
    "print(df['gwg'].value_counts())"
   ]
  },
  {
   "cell_type": "code",
   "execution_count": null,
   "id": "a9426eb5-1d8e-49aa-9367-057953219ce2",
   "metadata": {},
   "outputs": [],
   "source": [
    "print(df['gdm'].value_counts())\n",
    "df['gdm']=df.gdm.replace(np.nan, 9)\n",
    "print(df['gdm'].value_counts())\n",
    "df['gdm']=df['gdm'].astype(int)\n",
    "print(df['gdm'].value_counts())"
   ]
  },
  {
   "cell_type": "code",
   "execution_count": null,
   "id": "31faf795-8c7d-443c-acf1-e3beeb72cc43",
   "metadata": {},
   "outputs": [],
   "source": [
    "print(df['infection'].value_counts())\n",
    "df['infection']=df.infection.replace(np.nan, 9)\n",
    "print(df['infection'].value_counts())\n",
    "df['infection']=df['infection'].astype(int)\n",
    "print(df['infection'].value_counts())"
   ]
  },
  {
   "cell_type": "code",
   "execution_count": null,
   "id": "2802808d-4bc3-41f2-850f-d86de7e22dc0",
   "metadata": {},
   "outputs": [],
   "source": [
    "print(df['low_income'].value_counts())\n",
    "df['low_income']=df.low_income.replace(np.nan, 9)\n",
    "print(df['low_income'].value_counts())\n",
    "df['low_income']=df['low_income'].astype(int)\n",
    "print(df['low_income'].value_counts())"
   ]
  },
  {
   "cell_type": "code",
   "execution_count": null,
   "id": "918972c9-a06d-4cb6-ad55-ce19f8e56d53",
   "metadata": {},
   "outputs": [],
   "source": [
    "print(df['father_race'].value_counts())\n",
    "df['father_race']=df.father_race.replace(np.nan, 9)\n",
    "print(df['father_race'].value_counts())\n",
    "df['father_race']=df['father_race'].astype(int)\n",
    "print(df['father_race'].value_counts())"
   ]
  },
  {
   "cell_type": "code",
   "execution_count": null,
   "id": "63fdff8d-8d22-4a28-a305-01ee93938cb7",
   "metadata": {},
   "outputs": [],
   "source": [
    "print(df['gestation37'].value_counts())\n",
    "df['gestation37']=df.gestation37.replace(np.nan, 9)\n",
    "print(df['gestation37'].value_counts())\n",
    "df['gestation37']=df['gestation37'].astype(int)\n",
    "print(df['gestation37'].value_counts())"
   ]
  },
  {
   "cell_type": "code",
   "execution_count": null,
   "id": "b2ba5a39-0671-4eeb-a6fd-3301dbbfca60",
   "metadata": {},
   "outputs": [],
   "source": [
    "print(df['gestation34'].value_counts())\n",
    "df['gestation34']=df.gestation34.replace(np.nan, 9)\n",
    "print(df['gestation34'].value_counts())\n",
    "df['gestation34']=df['gestation34'].astype(int)\n",
    "print(df['gestation34'].value_counts())"
   ]
  },
  {
   "cell_type": "code",
   "execution_count": null,
   "id": "fa828586-5794-4875-8f75-2786c4b0820f",
   "metadata": {},
   "outputs": [],
   "source": [
    "print(df['priorsb'].value_counts())\n",
    "df['priorsb']=df.priorsb.replace(np.nan, 9)\n",
    "print(df['priorsb'].value_counts())\n",
    "df['priorsb']=df['priorsb'].astype(int)\n",
    "print(df['priorsb'].value_counts())"
   ]
  },
  {
   "cell_type": "code",
   "execution_count": null,
   "id": "f1036ee1-638f-40a3-8392-92324e9a9856",
   "metadata": {},
   "outputs": [],
   "source": [
    "print(df['nb_pn'].value_counts())\n",
    "df['nb_pn']=df.nb_pn.replace(np.nan, 99)\n",
    "print(df['nb_pn'].value_counts())\n",
    "df['nb_pn']=df['nb_pn'].astype(int)\n",
    "print(df['nb_pn'].value_counts())"
   ]
  },
  {
   "cell_type": "code",
   "execution_count": null,
   "id": "6821ce2b-fec7-42c3-a8e3-b07c73f2fc1c",
   "metadata": {},
   "outputs": [],
   "source": []
  }
 ],
 "metadata": {
  "kernelspec": {
   "display_name": "Python 3 (ipykernel)",
   "language": "python",
   "name": "python3"
  },
  "language_info": {
   "codemirror_mode": {
    "name": "ipython",
    "version": 3
   },
   "file_extension": ".py",
   "mimetype": "text/x-python",
   "name": "python",
   "nbconvert_exporter": "python",
   "pygments_lexer": "ipython3",
   "version": "3.12.4"
  }
 },
 "nbformat": 4,
 "nbformat_minor": 5
}
