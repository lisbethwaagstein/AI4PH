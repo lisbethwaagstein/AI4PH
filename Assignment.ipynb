{
 "cells": [
  {
   "cell_type": "markdown",
   "id": "4e506b49",
   "metadata": {},
   "source": [
    "# First Part"
   ]
  },
  {
   "cell_type": "code",
   "execution_count": 94,
   "id": "6279c13d",
   "metadata": {},
   "outputs": [],
   "source": [
    "#Start by importing all the packages I'm going to use\n",
    "import pandas as pd   \n",
    "import numpy as np    \n",
    "import matplotlib.pyplot as plt \n",
    "import seaborn as sns\n"
   ]
  },
  {
   "cell_type": "markdown",
   "id": "26ba2087",
   "metadata": {},
   "source": [
    "# 1"
   ]
  },
  {
   "cell_type": "code",
   "execution_count": 172,
   "id": "f5f7f204",
   "metadata": {
    "scrolled": true
   },
   "outputs": [
    {
     "name": "stdout",
     "output_type": "stream",
     "text": [
      "        Unnamed: 0       ID Case.Number                    Date  \\\n",
      "0          1614394  6744641    HR162637  02/09/2009 03:50:00 PM   \n",
      "1           238567  6380338    HP465037  07/21/2008 11:30:00 PM   \n",
      "2          2397513  7981904    HT214218  03/21/2011 07:00:00 PM   \n",
      "3           957963  7522917    HS326336  05/25/2010 08:35:00 PM   \n",
      "4          1909918  7216247    HR631679  11/07/2009 06:02:00 PM   \n",
      "268866     2605355  8303648    HT538183  10/11/2011 03:09:00 PM   \n",
      "268867      141977  6226734    HP314115  05/03/2008 12:10:43 AM   \n",
      "268868     1836515  7104315    HR513428  08/31/2009 08:19:00 PM   \n",
      "268869     1744173  6963964    HR356489  06/03/2009 03:00:00 PM   \n",
      "268870      857677  7366491    HS169090  02/16/2010 11:00:00 AM   \n",
      "\n",
      "                         Block  IUCR            Primary.Type  \\\n",
      "0             007XX S WELLS ST  2825           OTHER OFFENSE   \n",
      "1          043XX S ROCKWELL ST  0610                BURGLARY   \n",
      "2             109XX S AVENUE G  1320         CRIMINAL DAMAGE   \n",
      "3         0000X S LAVERGNE AVE  2024               NARCOTICS   \n",
      "4           085XX S WALLACE ST  0460                 BATTERY   \n",
      "268866  062XX S DORCHESTER AVE  2820           OTHER OFFENSE   \n",
      "268867   110XX S SPAULDING AVE  0460                 BATTERY   \n",
      "268868  065XX S MARSHFIELD AVE  0470  PUBLIC PEACE VIOLATION   \n",
      "268869     118XX S STEWART AVE  0330                 ROBBERY   \n",
      "268870       015XX N AVERS AVE  2825           OTHER OFFENSE   \n",
      "\n",
      "                    Description    Location.Description Arrest  ...  Ward  \\\n",
      "0       HARASSMENT BY TELEPHONE               APARTMENT  False  ...   2.0   \n",
      "1                FORCIBLE ENTRY               APARTMENT  False  ...  12.0   \n",
      "2                    TO VEHICLE                  STREET  False  ...  10.0   \n",
      "3           POSS: HEROIN(WHITE)                SIDEWALK   True  ...  28.0   \n",
      "4                        SIMPLE           CHA APARTMENT  False  ...  21.0   \n",
      "268866         TELEPHONE THREAT               RESIDENCE  False  ...  20.0   \n",
      "268867                   SIMPLE           BAR OR TAVERN   True  ...  19.0   \n",
      "268868         RECKLESS CONDUCT  VEHICLE NON-COMMERCIAL  False  ...  15.0   \n",
      "268869               AGGRAVATED                SIDEWALK  False  ...  34.0   \n",
      "268870  HARASSMENT BY TELEPHONE               RESIDENCE  False  ...  30.0   \n",
      "\n",
      "        Community.Area  FBI.Code  X.Coordinate Y.Coordinate    Year  \\\n",
      "0                 32.0        26     1174826.0    1897096.0  2009.0   \n",
      "1                 58.0        05     1159757.0    1875793.0  2008.0   \n",
      "2                 52.0        14     1203188.0    1833070.0  2011.0   \n",
      "3                 25.0        18     1143268.0    1899434.0  2010.0   \n",
      "4                 71.0       08B     1173797.0    1848136.0  2009.0   \n",
      "268866            42.0        26     1186608.0    1864035.0  2011.0   \n",
      "268867            74.0       08B     1156297.0    1831142.0  2008.0   \n",
      "268868            67.0        24     1166451.0    1861338.0  2009.0   \n",
      "268869            53.0        03     1175755.0    1826400.0  2009.0   \n",
      "268870            23.0        26     1150427.0    1909896.0  2010.0   \n",
      "\n",
      "                    Updated.On   Latitude  Longitude  \\\n",
      "0       02/04/2016 06:33:39 AM  41.873022 -87.633595   \n",
      "1       02/04/2016 06:33:39 AM  41.814888 -87.689507   \n",
      "2       02/04/2016 06:33:39 AM  41.696650 -87.531659   \n",
      "3       02/04/2016 06:33:39 AM  41.880085 -87.749402   \n",
      "4       02/04/2016 06:33:39 AM  41.738694 -87.638825   \n",
      "268866  02/04/2016 06:33:39 AM  41.782029 -87.591387   \n",
      "268867  02/04/2016 06:33:39 AM  41.692429 -87.703398   \n",
      "268868  02/04/2016 06:33:39 AM  41.775081 -87.665364   \n",
      "268869  02/04/2016 06:33:39 AM  41.679004 -87.632300   \n",
      "268870  02/04/2016 06:33:39 AM  41.908657 -87.722841   \n",
      "\n",
      "                             Location  \n",
      "0       (41.873021973, -87.633594919)  \n",
      "1       (41.814887983, -87.689506618)  \n",
      "2       (41.696650294, -87.531658989)  \n",
      "3        (41.880085253, -87.74940173)  \n",
      "4       (41.738693844, -87.638825362)  \n",
      "268866  (41.782028888, -87.591386599)  \n",
      "268867  (41.692428934, -87.703397693)  \n",
      "268868  (41.775081483, -87.665364048)  \n",
      "268869  (41.679003591, -87.632300011)  \n",
      "268870  (41.908657387, -87.722841164)  \n",
      "\n",
      "[10 rows x 23 columns]\n",
      "<class 'pandas.core.frame.DataFrame'>\n",
      "RangeIndex: 268871 entries, 0 to 268870\n",
      "Data columns (total 23 columns):\n",
      " #   Column                Non-Null Count   Dtype  \n",
      "---  ------                --------------   -----  \n",
      " 0   Unnamed: 0            268871 non-null  int64  \n",
      " 1   ID                    268871 non-null  object \n",
      " 2   Case.Number           268871 non-null  object \n",
      " 3   Date                  268871 non-null  object \n",
      " 4   Block                 268871 non-null  object \n",
      " 5   IUCR                  268871 non-null  object \n",
      " 6   Primary.Type          268871 non-null  object \n",
      " 7   Description           268871 non-null  object \n",
      " 8   Location.Description  268840 non-null  object \n",
      " 9   Arrest                268871 non-null  object \n",
      " 10  Domestic              268871 non-null  object \n",
      " 11  Beat                  268870 non-null  float64\n",
      " 12  District              268863 non-null  float64\n",
      " 13  Ward                  268861 non-null  float64\n",
      " 14  Community.Area        268739 non-null  object \n",
      " 15  FBI.Code              268870 non-null  object \n",
      " 16  X.Coordinate          265981 non-null  float64\n",
      " 17  Y.Coordinate          265981 non-null  float64\n",
      " 18  Year                  268870 non-null  float64\n",
      " 19  Updated.On            268870 non-null  object \n",
      " 20  Latitude              265981 non-null  float64\n",
      " 21  Longitude             265981 non-null  float64\n",
      " 22  Location              265981 non-null  object \n",
      "dtypes: float64(8), int64(1), object(14)\n",
      "memory usage: 47.2+ MB\n",
      "None\n",
      "The dataset has 268871 rows and 23 columns.\n"
     ]
    }
   ],
   "source": [
    "#Import the dataset\n",
    "df = pd.read_csv(\"T:/ELS/W_Lisbeth/INF-PROF/Assignment/Chicago_Cimes_2008_to_2011.csv\", sep=\",\", on_bad_lines='skip', low_memory=False)\n",
    "#df = pd.read_csv(\"https://raw.githubusercontent.com/rakelup/GDMR/master/diabetes.csv\", sep=\",\",error_bad_lines=False)\n",
    "df.head()\n",
    "\n",
    "# Show the first 5 and last 5 rows\n",
    "head_and_tail = pd.concat([df.iloc[:5], df.iloc[-5:]])\n",
    "print(head_and_tail)\n",
    "\n",
    "#Give the type object for each column.\n",
    "print(df.info())\n",
    "\n",
    "#Display the number of rows and columns\n",
    "rows, columns = df.shape\n",
    "print(f\"The dataset has {rows} rows and {columns} columns.\")"
   ]
  },
  {
   "cell_type": "markdown",
   "id": "ee88bf3e",
   "metadata": {},
   "source": [
    "# 2"
   ]
  },
  {
   "cell_type": "code",
   "execution_count": 173,
   "id": "7701f650",
   "metadata": {},
   "outputs": [
    {
     "name": "stdout",
     "output_type": "stream",
     "text": [
      "True\n",
      "Unnamed: 0                 0\n",
      "ID                         0\n",
      "Case.Number                0\n",
      "Date                       0\n",
      "Block                      0\n",
      "IUCR                       0\n",
      "Primary.Type               0\n",
      "Description                0\n",
      "Location.Description      31\n",
      "Arrest                     0\n",
      "Domestic                   0\n",
      "Beat                       1\n",
      "District                   8\n",
      "Ward                      10\n",
      "Community.Area           132\n",
      "FBI.Code                   1\n",
      "X.Coordinate            2890\n",
      "Y.Coordinate            2890\n",
      "Year                       1\n",
      "Updated.On                 1\n",
      "Latitude                2890\n",
      "Longitude               2890\n",
      "Location                2890\n",
      "dtype: int64\n",
      "Unnamed: 0              0.000000\n",
      "ID                      0.000000\n",
      "Case.Number             0.000000\n",
      "Date                    0.000000\n",
      "Block                   0.000000\n",
      "IUCR                    0.000000\n",
      "Primary.Type            0.000000\n",
      "Description             0.000000\n",
      "Location.Description    0.000115\n",
      "Arrest                  0.000000\n",
      "Domestic                0.000000\n",
      "Beat                    0.000004\n",
      "District                0.000030\n",
      "Ward                    0.000037\n",
      "Community.Area          0.000491\n",
      "FBI.Code                0.000004\n",
      "X.Coordinate            0.010749\n",
      "Y.Coordinate            0.010749\n",
      "Year                    0.000004\n",
      "Updated.On              0.000004\n",
      "Latitude                0.010749\n",
      "Longitude               0.010749\n",
      "Location                0.010749\n",
      "dtype: float64\n"
     ]
    }
   ],
   "source": [
    "# Check if there are any missing values in the entire dataset\n",
    "print(df.isnull().values.any())\n",
    "# Display the total number of missing values per column\n",
    "print(df.isnull().sum())\n",
    "# Display the proportion of missing values per column\n",
    "print(df.isnull().mean())"
   ]
  },
  {
   "cell_type": "markdown",
   "id": "9f4df248",
   "metadata": {},
   "source": [
    "# 3"
   ]
  },
  {
   "cell_type": "code",
   "execution_count": 174,
   "id": "eb4d2bbe",
   "metadata": {},
   "outputs": [
    {
     "name": "stdout",
     "output_type": "stream",
     "text": [
      "The dataset has 11358 duplicates\n"
     ]
    }
   ],
   "source": [
    "# Check for duplicated IDs\n",
    "duplicated_rows = df.duplicated(subset=['ID'])\n",
    "\n",
    "# Count the total number of duplicated rows\n",
    "num_duplicated_rows = duplicated_rows.sum()\n",
    "print(f\"The dataset has {num_duplicated_rows} duplicates\")\n",
    "\n",
    "# Drop duplicated rows based on the ID column\n",
    "df = df.drop_duplicates(subset=['ID'])\n",
    "\n",
    "# Set ID as index\n",
    "df.set_index('ID', inplace=True)"
   ]
  },
  {
   "cell_type": "markdown",
   "id": "6fbb57bd",
   "metadata": {},
   "source": [
    "# 4"
   ]
  },
  {
   "cell_type": "code",
   "execution_count": 175,
   "id": "4c5d9a34",
   "metadata": {},
   "outputs": [
    {
     "name": "stdout",
     "output_type": "stream",
     "text": [
      "257513\n",
      "257512\n"
     ]
    }
   ],
   "source": [
    "#Identify non-numeric index rows\n",
    "#This line of code converts the index to numeric values; non-numeic values become NaN when errors= 'coerce'\n",
    "#.isna() checks which values are NaN, resulting in a boolean array indicating whether each index is numeric or not\n",
    "non_numeric_index = pd.to_numeric(df.index, errors='coerce').isna()\n",
    "print(len(df))\n",
    "\n",
    "#Filter the DataFrame to keep only numeric indices\n",
    "df = df[~non_numeric_index]\n",
    "print(len(df))"
   ]
  },
  {
   "cell_type": "markdown",
   "id": "ff983fb2",
   "metadata": {},
   "source": [
    "# 5"
   ]
  },
  {
   "cell_type": "code",
   "execution_count": 176,
   "id": "0466b1c2",
   "metadata": {},
   "outputs": [],
   "source": [
    "# Convert the date column with correct format\n",
    "df['Date'] = pd.to_datetime(df['Date'], format='%m/%d/%Y %I:%M:%S %p')\n",
    "# Create the new column 'incident_date' in dd-mm-yyyy format\n",
    "df['calendar_date'] = df['Date'].dt.strftime('%d-%m-%Y')\n",
    "# Create the new column 'incident_time_24h' in 24-hour hh:mm:ss format\n",
    "df['time'] = df['Date'].dt.time"
   ]
  },
  {
   "cell_type": "code",
   "execution_count": 177,
   "id": "2ba33a87",
   "metadata": {},
   "outputs": [
    {
     "name": "stdout",
     "output_type": "stream",
     "text": [
      "The hour with the most homicides is: 21:00\n"
     ]
    }
   ],
   "source": [
    "# Get the hour with the most homicides\n",
    "df['IUCR'] = df['IUCR'].astype(str)\n",
    "homicide_codes = ['0110', '0130', '0141', '0142']\n",
    "# Extract the hour from the 'time' column (which contains datetime.time objects)\n",
    "df['hour'] = df['time'].apply(lambda x: x.hour)\n",
    "# Filter the DataFrame for rows where the IUCR code indicates a homicide\n",
    "homicides_df = df[df['Primary.Type']=='HOMICIDE']\n",
    "# Group by the 'hour' column and count the number of homicides per hour\n",
    "homicides_by_hour = homicides_df.groupby('hour').size()\n",
    "most_homicides_hour = homicides_by_hour.idxmax()\n",
    "print(f\"The hour with the most homicides is: {most_homicides_hour}:00\")"
   ]
  },
  {
   "cell_type": "code",
   "execution_count": 178,
   "id": "5b3e238b",
   "metadata": {},
   "outputs": [
    {
     "name": "stdout",
     "output_type": "stream",
     "text": [
      "The day of the week with the lowest number of thefts is: Sunday with 6655 thefts.\n"
     ]
    }
   ],
   "source": [
    "# Finding the day of the week with the fewest thefts\n",
    "# Add a column for the day of the week based on calendar_date\n",
    "df['day_of_week'] = pd.to_datetime(df['calendar_date'], format='%d-%m-%Y').dt.day_name()\n",
    "# Filter for thefts\n",
    "thefts_df = df[df['Primary.Type']=='THEFT']\n",
    "# Count thefts per day of the week\n",
    "thefts_by_day = thefts_df['day_of_week'].value_counts()\n",
    "# Find the day of the week with the lowest number of thefts\n",
    "lowest_theft_day = thefts_by_day.idxmin()\n",
    "lowest_theft_count = thefts_by_day.min()\n",
    "print(f\"The day of the week with the lowest number of thefts is: {lowest_theft_day} with {lowest_theft_count} thefts.\")"
   ]
  },
  {
   "cell_type": "code",
   "execution_count": 179,
   "id": "ee1fd2a6",
   "metadata": {},
   "outputs": [
    {
     "name": "stdout",
     "output_type": "stream",
     "text": [
      "The most common crime reported on Christmas Day is : BATTERY  with 84 occurrences.\n"
     ]
    }
   ],
   "source": [
    "# Find the most common crime reported on Christmas Day (25th December) across all years\n",
    "# Create a 'month_day' column to filter for December 25th\n",
    "df['month_day'] = df['Date'].dt.strftime('%m-%d')  # Format month-day as MM-DD\n",
    "# Filter for Christmas Day\n",
    "christmas_crimes_df = df[df['month_day'] == '12-25']\n",
    "# Count occurrences of each crime on Christmas Day\n",
    "if not christmas_crimes_df.empty:\n",
    "    most_common_crime = christmas_crimes_df['Primary.Type'].value_counts().idxmax()\n",
    "    most_common_crime_count = christmas_crimes_df['Primary.Type'].value_counts().max()\n",
    "    print(f\"The most common crime reported on Christmas Day is : {most_common_crime}  with {most_common_crime_count} occurrences.\")\n",
    "else:\n",
    "    print(\"No crimes reported on Christmas Day.\")"
   ]
  },
  {
   "cell_type": "markdown",
   "id": "24e89383",
   "metadata": {},
   "source": [
    "# 6"
   ]
  },
  {
   "cell_type": "code",
   "execution_count": 180,
   "id": "beb51c7e",
   "metadata": {},
   "outputs": [],
   "source": [
    "# Detect locations involving AIRPORT and replace with 'AIRPORT'\n",
    "df.loc[df['Location.Description'].str.contains('AIRPORT', case=False, na=False), 'Location.Description'] = 'AIRPORT' \n",
    "#case false means ignore casing in the string and na=False means any NaN values in the Series will be treated as False for the purpose of the search"
   ]
  },
  {
   "cell_type": "markdown",
   "id": "9b95c1b4",
   "metadata": {},
   "source": [
    "# 7"
   ]
  },
  {
   "cell_type": "code",
   "execution_count": 181,
   "id": "d1be152a",
   "metadata": {},
   "outputs": [],
   "source": [
    "# Filter incidents for the year 2008 and create a copy\n",
    "df_2008 = df[df['Date'].dt.year == 2008].copy()\n",
    "# Drop rows with NaN in the District column otherwise you can't convert to integer\n",
    "df_2008.dropna(subset=['District'], inplace=True)\n",
    "# Convert District column to integers\n",
    "df_2008['District_Number'] = df_2008['District'].astype(int)\n",
    "# Count the number of incidents per district\n",
    "incidents_per_district = df_2008['District_Number'].value_counts()"
   ]
  },
  {
   "cell_type": "code",
   "execution_count": 182,
   "id": "fc5635e5",
   "metadata": {},
   "outputs": [],
   "source": [
    "# Create dataframe with population data for Chicago Districts\n",
    "district_population = pd.DataFrame({\n",
    "    'District_Number': [i for i in range(1, 26)],\n",
    "    'District_Name': ['Central', 'Wentworth', 'Grand Crossing', 'South Chicago', 'Calumet', \n",
    "                      'Gresham', 'Englewood', 'Chicago Lawn', 'Deering', 'Ogden', \n",
    "                      'Harrison', 'Monroe', 'Wood', 'Shakespeare', 'Austin', \n",
    "                      'Jefferson Park', 'Albany Park', 'Near North', 'Belmont', \n",
    "                      'Lincoln', 'Prairie', 'Morgan Park', 'Town Hall', \n",
    "                      'Rogers Park', 'Grand Central'],\n",
    "    'Population': [25613, 50957, 93384, 141422, 92729, 105360, 91600, 244470, 165457, \n",
    "                   137120, 82392, 69677, 60517, 132459, 72736, 199898, 156859, \n",
    "                   110995, 107516, 102512, 78111, 111545, 98391, 151435, 212535]\n",
    "})"
   ]
  },
  {
   "cell_type": "code",
   "execution_count": 183,
   "id": "8d3d41e0",
   "metadata": {},
   "outputs": [],
   "source": [
    "# Set the index to District_Name\n",
    "district_population.set_index('District_Number', inplace=True)\n",
    "\n",
    "# Merge the incident counts with the population data, it's important we use left join because there is actually a district \n",
    "# number in the original dataset that actually doesn't exist in the list of districts (nr 31)\n",
    "criminality_data = district_population.join(incidents_per_district.rename('Incident_Count'), how='left').fillna(0)"
   ]
  },
  {
   "cell_type": "code",
   "execution_count": 184,
   "id": "9fff79bb",
   "metadata": {
    "scrolled": true
   },
   "outputs": [
    {
     "data": {
      "image/png": "[encoded data removed]",
      "text/plain": [
       "<Figure size 864x432 with 1 Axes>"
      ]
     },
     "metadata": {
      "needs_background": "light"
     },
     "output_type": "display_data"
    }
   ],
   "source": [
    "# Calculate the criminality rate\n",
    "criminality_data['Criminality_Rate'] = (criminality_data['Incident_Count'] / criminality_data['Population']) * 100\n",
    "\n",
    "# Create a bar plot for criminality rates\n",
    "plt.figure(figsize=(12, 6))\n",
    "criminality_data['Criminality_Rate'].plot(kind='bar', color='skyblue', \n",
    "                                            xticks=range(len(criminality_data)),\n",
    "                                            tick_label=criminality_data['District_Name'])\n",
    "plt.title('Criminality rate per 100 inhabitants in Chicago districts (2008)')\n",
    "plt.xlabel('Districts')\n",
    "plt.ylabel('Incidents per 100 inhabitants')\n",
    "plt.xticks(rotation=45)\n",
    "plt.grid(axis='y')\n",
    "plt.tight_layout()\n",
    "plt.show()"
   ]
  },
  {
   "cell_type": "markdown",
   "id": "56df1b1e",
   "metadata": {},
   "source": [
    "# 8"
   ]
  },
  {
   "cell_type": "code",
   "execution_count": 185,
   "id": "1063fc9f",
   "metadata": {},
   "outputs": [],
   "source": [
    "# Normalize the data by stripping whitespace and converting to lower case and then converting to boolean\n",
    "df['Arrest'] = df['Arrest'].str.strip().str.lower()\n",
    "df['Arrest'] = df['Arrest'].map({'true': True, 'false': False})\n",
    "\n",
    "#Group by IUCR and count total incidents and arrests\n",
    "arrests = df.groupby('Primary.Type').agg(\n",
    "    Total_Incidents=('Primary.Type', 'size'),            # Count total incidents for each crime type\n",
    "    Total_Arrests=('Arrest', 'sum')              # Count total arrests for each crime type\n",
    ").reset_index()\n",
    "\n",
    "#Calculate the proportion of arrests\n",
    "arrests['Proportion_of_Arrests'] = arrests['Total_Arrests'] / arrests['Total_Incidents']*100\n",
    "arrests=arrests.sort_values(by='Proportion_of_Arrests')\n",
    "arrests['Proportion_of_Arrests'] = arrests['Proportion_of_Arrests'].round(2)"
   ]
  },
  {
   "cell_type": "markdown",
   "id": "941212f1",
   "metadata": {},
   "source": [
    "# Second Part"
   ]
  },
  {
   "cell_type": "code",
   "execution_count": 204,
   "id": "e2c7b12f",
   "metadata": {},
   "outputs": [],
   "source": [
    "robberies=df[df['Primary.Type']=='ROBBERY']"
   ]
  },
  {
   "cell_type": "code",
   "execution_count": 216,
   "id": "53e38ba5",
   "metadata": {},
   "outputs": [
    {
     "name": "stdout",
     "output_type": "stream",
     "text": [
      "Defaulting to user installation because normal site-packages is not writeable\n",
      "Looking in indexes: http://em-nexus-1.main.oecd.org:8081/repository/pip-proxy/simple/\n",
      "Collecting geopandas\n",
      "  Downloading http://em-nexus-1.main.oecd.org:8081/repository/pip-proxy/packages/geopandas/1.0.1/geopandas-1.0.1-py3-none-any.whl (323 kB)\n",
      "Collecting pyproj>=3.3.0\n",
      "  Downloading http://em-nexus-1.main.oecd.org:8081/repository/pip-proxy/packages/pyproj/3.6.1/pyproj-3.6.1-cp39-cp39-win_amd64.whl (6.1 MB)\n",
      "Collecting numpy>=1.22\n",
      "  Downloading http://em-nexus-1.main.oecd.org:8081/repository/pip-proxy/packages/numpy/2.0.2/numpy-2.0.2-cp39-cp39-win_amd64.whl (15.9 MB)\n",
      "Collecting shapely>=2.0.0\n",
      "  Downloading http://em-nexus-1.main.oecd.org:8081/repository/pip-proxy/packages/shapely/2.0.6/shapely-2.0.6-cp39-cp39-win_amd64.whl (1.4 MB)\n",
      "Collecting pyogrio>=0.7.2\n",
      "  Downloading http://em-nexus-1.main.oecd.org:8081/repository/pip-proxy/packages/pyogrio/0.10.0/pyogrio-0.10.0-cp39-cp39-win_amd64.whl (16.2 MB)\n",
      "Requirement already satisfied: pandas>=1.4.0 in \\\\em-prod-3.main.oecd.org\\em_apps\\python\\anaconda3-2022.05\\lib\\site-packages (from geopandas) (1.4.2)\n",
      "Requirement already satisfied: packaging in \\\\em-prod-3.main.oecd.org\\em_apps\\python\\anaconda3-2022.05\\lib\\site-packages (from geopandas) (21.3)\n",
      "Requirement already satisfied: python-dateutil>=2.8.1 in \\\\em-prod-3.main.oecd.org\\em_apps\\python\\anaconda3-2022.05\\lib\\site-packages (from pandas>=1.4.0->geopandas) (2.8.2)\n",
      "Requirement already satisfied: pytz>=2020.1 in \\\\em-prod-3.main.oecd.org\\em_apps\\python\\anaconda3-2022.05\\lib\\site-packages (from pandas>=1.4.0->geopandas) (2021.3)\n",
      "Requirement already satisfied: certifi in \\\\em-prod-3.main.oecd.org\\em_apps\\python\\anaconda3-2022.05\\lib\\site-packages (from pyogrio>=0.7.2->geopandas) (2021.10.8)\n",
      "Requirement already satisfied: six>=1.5 in \\\\em-prod-3.main.oecd.org\\em_apps\\python\\anaconda3-2022.05\\lib\\site-packages (from python-dateutil>=2.8.1->pandas>=1.4.0->geopandas) (1.16.0)\n",
      "Requirement already satisfied: pyparsing!=3.0.5,>=2.0.2 in \\\\em-prod-3.main.oecd.org\\em_apps\\python\\anaconda3-2022.05\\lib\\site-packages (from packaging->geopandas) (3.0.4)\n",
      "Installing collected packages: numpy, shapely, pyproj, pyogrio, geopandas\n",
      "Successfully installed geopandas-1.0.1 numpy-2.0.2 pyogrio-0.10.0 pyproj-3.6.1 shapely-2.0.6\n",
      "Note: you may need to restart the kernel to use updated packages.\n"
     ]
    },
    {
     "name": "stderr",
     "output_type": "stream",
     "text": [
      "  WARNING: The scripts f2py.exe and numpy-config.exe are installed in 'U:\\Users\\Waagstein_L\\AppData\\Roaming\\Python\\Python39\\Scripts' which is not on PATH.\n",
      "  Consider adding this directory to PATH or, if you prefer to suppress this warning, use --no-warn-script-location.\n",
      "  WARNING: The script pyproj.exe is installed in 'U:\\Users\\Waagstein_L\\AppData\\Roaming\\Python\\Python39\\Scripts' which is not on PATH.\n",
      "  Consider adding this directory to PATH or, if you prefer to suppress this warning, use --no-warn-script-location.\n",
      "ERROR: pip's dependency resolver does not currently take into account all the packages that are installed. This behaviour is the source of the following dependency conflicts.\n",
      "daal4py 2021.5.0 requires daal==2021.4.0, which is not installed.\n",
      "scipy 1.7.3 requires numpy<1.23.0,>=1.16.5, but you have numpy 2.0.2 which is incompatible.\n",
      "numba 0.55.1 requires numpy<1.22,>=1.18, but you have numpy 2.0.2 which is incompatible.\n"
     ]
    }
   ],
   "source": [
    "pip install geopandas"
   ]
  },
  {
   "cell_type": "code",
   "execution_count": null,
   "id": "0bfacb3e",
   "metadata": {},
   "outputs": [],
   "source": [
    "import geopandas as gpd"
   ]
  },
  {
   "cell_type": "code",
   "execution_count": 215,
   "id": "421e2224",
   "metadata": {},
   "outputs": [
    {
     "ename": "ModuleNotFoundError",
     "evalue": "No module named 'geopandas'",
     "output_type": "error",
     "traceback": [
      "\u001b[1;31m---------------------------------------------------------------------------\u001b[0m",
      "\u001b[1;31mModuleNotFoundError\u001b[0m                       Traceback (most recent call last)",
      "Input \u001b[1;32mIn [215]\u001b[0m, in \u001b[0;36m<cell line: 1>\u001b[1;34m()\u001b[0m\n\u001b[1;32m----> 1\u001b[0m \u001b[38;5;28;01mimport\u001b[39;00m \u001b[38;5;21;01mgeopandas\u001b[39;00m\n",
      "\u001b[1;31mModuleNotFoundError\u001b[0m: No module named 'geopandas'"
     ]
    }
   ],
   "source": [
    "import geopandas"
   ]
  }
 ],
 "metadata": {
  "kernelspec": {
   "display_name": "Python 3 (ipykernel)",
   "language": "python",
   "name": "python3"
  },
  "language_info": {
   "codemirror_mode": {
    "name": "ipython",
    "version": 3
   },
   "file_extension": ".py",
   "mimetype": "text/x-python",
   "name": "python",
   "nbconvert_exporter": "python",
   "pygments_lexer": "ipython3",
   "version": "3.9.12"
  }
 },
 "nbformat": 4,
 "nbformat_minor": 5
}
